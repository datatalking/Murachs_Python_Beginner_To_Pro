{
 "cells": [
  {
   "cell_type": "code",
   "execution_count": null,
   "metadata": {
    "collapsed": true,
    "pycharm": {
     "name": "#%%\n"
    }
   },
   "outputs": [],
   "source": [
    "## TERMS\n",
    "# TODO create an random cron job quizzing user on one of these terms\n",
    "# TODO save results to sqlite dbase and\n",
    "chapter_one_terms = {1: 'Python',\n",
    "                    2: 'Open Source',\n",
    "                    3: 'backward compatible',\n",
    "                    4: 'forward compatible',\n",
    "                    5: 'application',\n",
    "                    6: 'app',\n",
    "                    7: 'program',\n",
    "                    8: 'console application',\n",
    "                    9: 'console',\n",
    "                    10: 'command prompt',\n",
    "                    11: 'GUI application',\n",
    "                    12: 'web application',\n",
    "                    13: 'desktop application',\n",
    "                    14: 'scripting language',\n",
    "                    15: 'shebang line',\n",
    "                    16: 'source code',\n",
    "                    17: 'compile',\n",
    "                    18: 'interpreter',\n",
    "                    19: 'bytecode',\n",
    "                    20: 'virtual machine',\n",
    "                    21: 'platform-independent',\n",
    "                    22: 'Central Processing UNIT (CPU)',\n",
    "                    23: 'main memory',\n",
    "                    24: 'Random Access Memory (RAM)',\n",
    "                    25: 'disk storage',\n",
    "                    26: 'persistent data storage'\n",
    "                    27: 'system software',\n",
    "                    28: 'operating system',\n",
    "                     29: 'application software',\n",
    "                     30: 'byte',\n",
    "                     31: 'bit',\n",
    "                     32: 'megabyte (MB)',\n",
    "                     33: 'gigabyte (GB)',\n",
    "                     33.1: 'terabyte (TB)',\n",
    "                     33.2: 'petabyte (PB)',\n",
    "                     33.3: 'exabyte (EB)',\n",
    "                     34: 'integrated development environment (IDE)',\n",
    "                     35: 'IDLE',\n",
    "                     36: 'interactive shell',\n",
    "                     37: 'testing',\n",
    "                     38: 'debugging',\n",
    "                     39: 'syntax error',\n",
    "                     40: 'runtime error',\n",
    "                     41: 'exception',\n",
    "                     42: 'exception handling'}\n"
   ]
  }
 ],
 "metadata": {
  "kernelspec": {
   "display_name": "Python 3",
   "language": "python",
   "name": "python3"
  },
  "language_info": {
   "codemirror_mode": {
    "name": "ipython",
    "version": 2
   },
   "file_extension": ".py",
   "mimetype": "text/x-python",
   "name": "python",
   "nbconvert_exporter": "python",
   "pygments_lexer": "ipython2",
   "version": "2.7.6"
  }
 },
 "nbformat": 4,
 "nbformat_minor": 0
}