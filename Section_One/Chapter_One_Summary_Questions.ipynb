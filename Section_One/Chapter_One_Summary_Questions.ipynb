{
 "cells": [
  {
   "cell_type": "code",
   "execution_count": null,
   "metadata": {
    "collapsed": true,
    "pycharm": {
     "name": "#%%\n"
    }
   },
   "outputs": [],
   "source": [
    "## TERMS\n",
    "# TODO create an random cron job quizzing user on one of these terms\n",
    "# TODO save results to sqlite dbase and\n",
    "chapter_one_terms = {1: 'Python',\n",
    "                    2: 'Open Source',\n",
    "                    3: 'backward compatible',\n",
    "                    4: 'forward compatible',\n",
    "                    5: 'application',\n",
    "                    6: 'app',\n",
    "                    7: 'program',\n",
    "                    8: 'console application',\n",
    "                    9: 'console',\n",
    "                    10: 'command prompt',\n",
    "                    11: 'GUI application',\n",
    "                    12: 'web application',\n",
    "                    13: 'desktop application',\n",
    "                    14: 'scripting language',\n",
    "                    15: 'shebang line',\n",
    "                    16: 'source code',\n",
    "                    17: 'compile',\n",
    "                    18: 'interpreter',\n",
    "                    19: 'bytecode',\n",
    "                    20: 'virtual machine',\n",
    "                    21: 'platform-independent',\n",
    "                    22: 'Central Processing UNIT (CPU)',\n",
    "                    23: 'main memory',\n",
    "                    24: 'Random Access Memory (RAM)',\n",
    "                    25: 'disk storage',\n",
    "                    26: 'persistent data storage'\n",
    "                    27: 'system software',\n",
    "                    28: 'operating system',\n",
    "                     29: 'application software',\n",
    "                     30: 'byte',\n",
    "                     31: 'bit',\n",
    "                     32: 'megabyte (MB)',\n",
    "                     33: 'gigabyte (GB)',\n",
    "                     33.1: 'terabyte (TB)',\n",
    "                     33.2: 'petabyte (PB)',\n",
    "                     33.3: 'exabyte (EB)',\n",
    "                     34: 'integrated development environment (IDE)',\n",
    "                     35: 'IDLE',\n",
    "                     36: 'interactive shell',\n",
    "                     37: 'testing',\n",
    "                     38: 'debugging',\n",
    "                     39: 'syntax error',\n",
    "                     40: 'runtime error',\n",
    "                     41: 'exception',\n",
    "                     42: 'exception handling'}"
   ]
  },
  {
   "cell_type": "code",
   "execution_count": null,
   "outputs": [
    {
     "ename": "SyntaxError",
     "evalue": "unexpected character after line continuation character (<ipython-input-1-6e929d08b312>, line 2)",
     "output_type": "error",
     "traceback": [
      "\u001B[0;36m  File \u001B[0;32m\"<ipython-input-1-6e929d08b312>\"\u001B[0;36m, line \u001B[0;32m2\u001B[0m\n\u001B[0;31m    * \"Python is a powerful langauge with a simple syntax that's easy to read and understand \\n\" \\\u001B[0m\n\u001B[0m                                                                                                   ^\u001B[0m\n\u001B[0;31mSyntaxError\u001B[0m\u001B[0;31m:\u001B[0m unexpected character after line continuation character\n"
     ]
    }
   ],
   "source": [
    "# Summary\n",
    "\n",
    "chapter_one_summary = {\n",
    "* \"Python is a powerful langauge with a simple syntax that's easy to read and understand \\n\"\n",
    "  \"Thats why its such a good first language for beginners \" ,\n",
    "\n",
    "* \"Python can be used to develop 'desktop applications' such as 'console applications'\"\n",
    "  \"and 'GUI applicaitons'. Python can be used to 'web applications', and Python can also\"\n",
    "  \"be used as a 'scripting language' for purposes such as system administration\",\n",
    "\n",
    "* \"Before the 'source code' for a Python program can be run, it is 'compiled' by the Python\"\n",
    "  \"'virtual machine' for a computer. The 'bytecode' and 'virtual machine' are what makes\"\n",
    "  \"Python 'platform-independent' \",\n",
    "\n",
    "* \"When a program is being run, the 'operating system', the program, and the programs data\"\n",
    "  \"are all stored in the 'main memory' of the computer\",\n",
    "\n",
    "* \"'Disk storage' provides 'persistant data storage' for the data that's operated upon by a program\"\n",
    "  \"'Disk storage' also stores all the 'system software' and 'application software' of the system\",\n",
    "\n",
    "* \"An 'integrated development enviroment' (IDE) like (IDLE) makes it easier to develop Python Programs\",\n",
    "\n",
    "* \"You can use IDLE on Mac with PyCharm just visit https://www.youtube.com/watch?v=oyzH4M6X6F4\",\n",
    "\n",
    "* \"The goal of 'testing' find all of the errors in a program. The goal of 'debugging' fix them\",\n",
    "\n",
    "* \"If a program has 'syntax errors', you need to correct them before the program can be compiled.\"\n",
    "    \"If a program has 'runtime errors', you need to debug each one until the program runs correctly.\"\n",
    "\n",
    "* \"A 'runtime error' is also known as an 'exception'. To make sure that a program doesn't crash, you\"\n",
    "  \"must learn how to 'handle' the 'Exception'(s) that occur\"\n",
    "}"
   ],
   "metadata": {
    "collapsed": false,
    "pycharm": {
     "name": "#%%\n"
    }
   }
  },
  {
   "cell_type": "code",
   "execution_count": null,
   "outputs": [],
   "source": [],
   "metadata": {
    "collapsed": false,
    "pycharm": {
     "name": "#%%\n"
    }
   }
  }
 ],
 "metadata": {
  "kernelspec": {
   "display_name": "Python 3",
   "language": "python",
   "name": "python3"
  },
  "language_info": {
   "codemirror_mode": {
    "name": "ipython",
    "version": 2
   },
   "file_extension": ".py",
   "mimetype": "text/x-python",
   "name": "python",
   "nbconvert_exporter": "python",
   "pygments_lexer": "ipython2",
   "version": "2.7.6"
  }
 },
 "nbformat": 4,
 "nbformat_minor": 0
}