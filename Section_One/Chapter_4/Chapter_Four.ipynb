{
 "cells": [
  {
   "cell_type": "code",
   "execution_count": null,
   "metadata": {
    "collapsed": true
   },
   "outputs": [],
   "source": [
    "# SOURCE Murachs Python to Pro\n",
    "# Chapter Four\n",
    "# How to define and use functions and modules\n",
    "\n",
    "# The syntax for defining a function\n",
    "arguments = 0\n",
    "\n",
    "def function_name([arguments]):\n",
    "\t\"\"\"\n",
    "\tDoc string - Explains what we are doing, usually a one or two step process, rarely three\n",
    "\t:return:\n",
    "\t\"\"\"\n",
    "\t'statements'\n",
    "\n",
    "# A function that doesn't accept arguments\n",
    "# How to define it"
   ]
  },
  {
   "cell_type": "code",
   "execution_count": null,
   "outputs": [],
   "source": [
    "def print_welcome():\n",
    "\tprint(\"Welcome to the Future Value Calculator\")\n",
    "\tprint()\n",
    "\n",
    "# How to call it\n",
    "print_welcome()"
   ],
   "metadata": {
    "collapsed": false,
    "pycharm": {
     "name": "#%%\n"
    }
   }
  },
  {
   "cell_type": "code",
   "execution_count": null,
   "outputs": [],
   "source": [
    "# A function that has one argument\n",
    "# How to define it\n",
    "\n",
    "def print_welcome(message):\n",
    "\t\"\"\"\n",
    "\tDoc string - function contains one argument that prints a message\n",
    "\t:param message:\n",
    "\t:return:\n",
    "\t\"\"\"\n",
    "\tprint(message)\n",
    "\tprint()\n",
    "\n",
    "# how to call is\n",
    "message = \"Welcome to the Future Value Calculator\"\n",
    "print_welcome()"
   ],
   "metadata": {
    "collapsed": false,
    "pycharm": {
     "name": "#%%\n"
    }
   }
  },
  {
   "cell_type": "code",
   "execution_count": 1,
   "outputs": [],
   "source": [
    "# A function that accepts two arguments and returns a value\n",
    "\n",
    "def calculate_miles_per_gallon(miles_driven, gallons_used):\n",
    "\t\"\"\"\n",
    "\tDoc string - function that contains two arguments to calculate mpg, no value tests\n",
    "\t:param miles_driven: int\n",
    "\t:param gallons_used: int\n",
    "\t:return:\n",
    "\t\"\"\"\n",
    "\tmpg = miles_driven / gallons_used\n",
    "\tmpg = round(mpg, 1)\n",
    "\treturn mpg\n",
    "\n",
    "miles = 500\n",
    "gallons = 14\n",
    "mpg = calculate_miles_per_gallon(miles, gallons)"
   ],
   "metadata": {
    "collapsed": false,
    "pycharm": {
     "name": "#%%\n"
    }
   }
  },
  {
   "cell_type": "code",
   "execution_count": null,
   "outputs": [],
   "source": [
    "# A main() function that calls another function\n",
    "# !/usr/bin/env python3\n",
    "\n",
    "def main():\n",
    "\t\"\"\"\n",
    "\tDoc string - function that calculates a future value based on interest, investment and years\n",
    "\t:return:\n",
    "\t\"\"\"\n",
    "\n",
    "\t#display a welcome message\n",
    "\tprint(\"The Future Value Calculator\\n\")\n",
    "\n",
    "\t# get input\n",
    "\tmonthly_investment = float(input(\"Enter monthly investment:   \"))\n",
    "\tyearly_interest = float(input(\"Enter yearly interest rate:  \"))\n",
    "\tyears = int(input(\"Enter number of years:       \"))\n",
    "\n",
    "\t# get the future value\n",
    "\tfuture_value = calculate_future_value(\n",
    "\t\tmonthly_investment, yearly_interest, years)\n",
    "\n",
    "\t# display output\n",
    "\tprint(\"Future value:               \", round(future_value, 2))\n",
    "\n",
    "# Two ways to calls a main() function\n",
    "#Code a simple call statement (not reccomended)\n",
    "main()\n",
    "\n",
    "# Code a call statement within an if statement\n",
    "# that checks whether the current module is the main module\n",
    "\n",
    "if __name__ == \"__main__\":\n",
    "\tmain()"
   ],
   "metadata": {
    "collapsed": false,
    "pycharm": {
     "name": "#%%\n"
    }
   }
  },
  {
   "cell_type": "code",
   "execution_count": 16,
   "outputs": [
    {
     "name": "stdout",
     "output_type": "stream",
     "text": [
      "Future value:\t\t\t350208.0\n",
      "\n",
      "Bye!\n"
     ]
    }
   ],
   "source": [
    "# The code\n",
    "#!/usr/bin/env python3\n",
    "\n",
    "def calculate_future_value(monthly_investment, yearly_investment, years):\n",
    "\t\"\"\"\n",
    "\tDoc string - accepts monthly, yearly and years for time value calculatsion\n",
    "\t:param monthly_investment:\n",
    "\t:param yearly_investment:\n",
    "\t:param years:\n",
    "\t:return:\n",
    "\t\"\"\"\n",
    "\t# convert yearly values to monthly values\n",
    "\tyearly_interest_rate = 0\n",
    "\tmonthly_interest_rate = yearly_interest_rate / 12 / 100\n",
    "\tmonths = years * 12\n",
    "\n",
    "\t# calculate future value\n",
    "\tfuture_value = 0.0\n",
    "\tfor i in range(0, months):\n",
    "\t\tfuture_value += monthly_investment\n",
    "\t\tmonthly_interest = future_value * monthly_interest_rate\n",
    "\t\tfuture_value += monthly_interest\n",
    "\treturn future_value\n",
    "\n",
    "def main():\n",
    "\t#choice = \"y\"\n",
    "\tchoice = str(input(\"Do you want to calculate future value:\\t\"))\n",
    "\twhile choice.lower() == \"y\" and choice.lower() != 'n':\n",
    "\t\t# get input from the user\n",
    "\t\tmonthly_investment = float(input(\"Enter monthly investment:\\t\"))\n",
    "\t\tyearly_interest_rate = float(input(\"Enter yearly interest rate:\\t\"))\n",
    "\t\tyears = int(input(\"Enter number of years:\\t\\t\"))\n",
    "\n",
    "\t    # get and display future value\n",
    "\t\tfuture_value = calculate_future_value(monthly_investment, yearly_interest_rate, years)\n",
    "\n",
    "\t\tprint(\"Future value:\\t\\t\\t\" + str(round(future_value, 2)))\n",
    "\t\tprint()\n",
    "\n",
    "\t\t# see if user wants to continue\n",
    "\t\tchoice = input(\"Continue? (y/n): \")\n",
    "\n",
    "\n",
    "\tprint(\"Bye!\")\n",
    "\n",
    "if __name__ == \"__main__\":\n",
    "\tmain()"
   ],
   "metadata": {
    "collapsed": false,
    "pycharm": {
     "name": "#%%\n"
    }
   }
  },
  {
   "cell_type": "code",
   "execution_count": null,
   "outputs": [],
   "source": [
    "# The calculate_future_value() function with a default value\n",
    "\n",
    "def calculate_future_value(monthly_investment, yearly_interest, years=20):\n",
    "\t\"\"\"\n",
    "\tdoc string, params to calculate the future time value of money\n",
    "\t:param monthly_investment:\n",
    "\t:param yearly_interest:\n",
    "\t:param years:\n",
    "\t:return:\n",
    "\t\"\"\"\n",
    "\t# convert yearly values to monthly values\n",
    "\tmonthly_interest_rate = yearly_interest / 12 / 100\n",
    "\tmonths = years * 12\n",
    "\n",
    "\t# calculate future values\n",
    "\tfuture_value = 0.0\n",
    "\tfor i in range(0, months):\n",
    "\t\tfuture_value += monthly_investment\n",
    "\t\tmonthly_interest = future_value * monthly_interest_rate\n",
    "\t\tfuture_value += monthly_interest\n",
    "\treturn future_value\n",
    "\n",
    "# How to call the funcion and use its default value (years = 20)\n",
    "future_value = calculate_future_value(100, 8.5)\n",
    "\n",
    "# How to call the function and override its default value\n",
    "future_value = calculate_future_value(100, 8.5, 10)\n",
    "\n",
    "# How to call the function with named arguments\n",
    "future_value = calculate_future_value(years=10,\n",
    "                                      monthly_investment=100,\n",
    "                                      yearly_interest=8.5)"
   ],
   "metadata": {
    "collapsed": false,
    "pycharm": {
     "name": "#%%\n"
    }
   }
  },
  {
   "cell_type": "code",
   "execution_count": null,
   "outputs": [],
   "source": [
    "# Functions that use local variables\n",
    "def calc_tax(amount, tax_rate):\n",
    "\ttax = amount * tax_rate\n",
    "\treturn tax\n",
    "\n",
    "def main():\n",
    "\ttax = calc_tax(85., 0.05)\n",
    "\tprint(\"Tax:\", tax)\n",
    "\n",
    "# ths would be added if script needs to always run main\n",
    "# if __name__ == '__main__':\n",
    "# else it only runs the named function/kwargs\n",
    "\n",
    "# A function that changes a global variable (not recommended)\n",
    "tax = 0.0\n",
    "\n",
    "def calc_tax(amount, tax_rate):\n",
    "\tglobal tax\n",
    "\ttax = amount * tax_rate\n",
    "\n",
    "def main():\n",
    "\tcalc_tax(85.0, 0.05)\n",
    "\tprint(\"Tax:\", tax)\n",
    "\n",
    "# A local envariable that shadows a global variable (not recommended)\n",
    "tax = 0.0\n",
    "\n",
    "def calc_tax(amount, tax_rate):\n",
    "\ttax = amount * tax_rate\n",
    "\tprint(\"Tax:\", tax)\n",
    "\n",
    "def main():\n",
    "\tcalc_tax(85.0, 0.05)\n",
    "\tprint(\"Tax:\", tax)\n",
    "\n",
    "# A function that uses a global constant (okay)\n",
    "TAX_RATE = 0.05\n",
    "def calc_tax(amount):\n",
    "\ttax = amount * TAX_RATE\n",
    "\treturn tax"
   ],
   "metadata": {
    "collapsed": false,
    "pycharm": {
     "name": "#%%\n"
    }
   }
  },
  {
   "cell_type": "code",
   "execution_count": null,
   "outputs": [],
   "source": [
    "# The code in the module thats stored in the temperature.py file\n",
    "def to_celsius(fahrenheit):\n",
    "\tcelsius = (fahrenheit - 32) * 5 / 9\n",
    "\treturn celsius\n",
    "\n",
    "def to_fahrenheit(celsius):\n",
    "\tfahrenheit = celsius * 9 / 5 + 32\n",
    "\treturn fahrenheit\n",
    "\n",
    "# the main function is used to test the other functions\n",
    "# this code isn't run if this module isn't the main module\n",
    "\n",
    "def main():\n",
    "\tfor temp in range(0, 212, 40):\n",
    "\t\tprint(temp, \"Fahrenheit =\", round(to_celsius(temp), 2),\n",
    "\t\t\t  \"Celsius\")\n",
    "\n",
    "\tfor temp in range(0, 100, 20):\n",
    "\t\tprint(temp, \"Celsius =\", round(to_fahrenheit(temp), 2),\n",
    "\t\t\t  \"Fahrenheit\")\n",
    "\n",
    "# if this module is the main module, call the main function\n",
    "# to test the other functions\n",
    "if __name__ == \"__main__\":\n",
    "\tmain()"
   ],
   "metadata": {
    "collapsed": false,
    "pycharm": {
     "name": "#%%\n"
    }
   }
  },
  {
   "cell_type": "code",
   "execution_count": null,
   "outputs": [],
   "source": [
    "\"\"\"\n",
    "This module contains functions for converting\n",
    "temperature between degrees Fahrenheit\n",
    "and degrees Celsius\n",
    "\"\"\"\n",
    "\n",
    "def to_celsius(fahrenheit):\n",
    "    \"\"\"\n",
    "    Doc string - Accepts degrees Fahrenheit (fahrenheit argument)\n",
    "    Returns degrees Celsius\n",
    "    \"\"\"\n",
    "    celsius = (fahrenheit - 32) * 5/9\n",
    "    return celsius\n",
    "\n",
    "def to_fahrenheit(celsius):\n",
    "    \"\"\"\n",
    "    Doc string - Accepts degrees Celsius (celsius argument)\n",
    "    Returns degrees Fahrenheit\n",
    "    \"\"\"\n",
    "    fahrenheit = celsius * 9/5 + 32\n",
    "    return fahrenheit"
   ],
   "metadata": {
    "collapsed": false,
    "pycharm": {
     "name": "#%%\n"
    }
   }
  },
  {
   "cell_type": "code",
   "execution_count": 1,
   "outputs": [
    {
     "ename": "TypeError",
     "evalue": "unsupported operand type(s) for +: 'int' and 'str'",
     "output_type": "error",
     "traceback": [
      "\u001B[0;31m---------------------------------------------------------------------------\u001B[0m",
      "\u001B[0;31mTypeError\u001B[0m                                 Traceback (most recent call last)",
      "\u001B[0;32m<ipython-input-1-1d6a978e35a8>\u001B[0m in \u001B[0;36m<module>\u001B[0;34m\u001B[0m\n\u001B[1;32m      1\u001B[0m \u001B[0mx\u001B[0m \u001B[0;34m=\u001B[0m \u001B[0;36m15\u001B[0m\u001B[0;34m\u001B[0m\u001B[0;34m\u001B[0m\u001B[0m\n\u001B[1;32m      2\u001B[0m \u001B[0my\u001B[0m \u001B[0;34m=\u001B[0m \u001B[0;34m\"5\"\u001B[0m\u001B[0;34m\u001B[0m\u001B[0;34m\u001B[0m\u001B[0m\n\u001B[0;32m----> 3\u001B[0;31m \u001B[0mz\u001B[0m \u001B[0;34m=\u001B[0m \u001B[0mx\u001B[0m \u001B[0;34m+\u001B[0m \u001B[0my\u001B[0m \u001B[0;31m# should result in TypeError:\u001B[0m\u001B[0;34m\u001B[0m\u001B[0;34m\u001B[0m\u001B[0m\n\u001B[0m\u001B[1;32m      4\u001B[0m \u001B[0;34m\u001B[0m\u001B[0m\n",
      "\u001B[0;31mTypeError\u001B[0m: unsupported operand type(s) for +: 'int' and 'str'"
     ]
    }
   ],
   "source": [
    "x = 15\n",
    "y = \"5\"\n",
    "z = x + y # should result in TypeError:"
   ],
   "metadata": {
    "collapsed": false,
    "pycharm": {
     "name": "#%%\n"
    }
   }
  },
  {
   "cell_type": "code",
   "execution_count": null,
   "outputs": [],
   "source": [
    "# how to fix\n",
    "x = 15\n",
    "y = \"5\"\n",
    "z = x + int(y)\n"
   ],
   "metadata": {
    "collapsed": false,
    "pycharm": {
     "name": "#%%\n"
    }
   }
  },
  {
   "cell_type": "code",
   "execution_count": null,
   "outputs": [],
   "source": [
    "quantity = input(\"Enter the quantity: \")\n",
    "quantity = int(quantity)\n",
    "\n",
    "quantity = int(input(\"Enter the quantity: \"))"
   ],
   "metadata": {
    "collapsed": false,
    "pycharm": {
     "name": "#%%\n"
    }
   }
  },
  {
   "cell_type": "code",
   "execution_count": 2,
   "outputs": [
    {
     "ename": "ValueError",
     "evalue": "could not convert string to float: ",
     "output_type": "error",
     "traceback": [
      "\u001B[0;31m---------------------------------------------------------------------------\u001B[0m",
      "\u001B[0;31mValueError\u001B[0m                                Traceback (most recent call last)",
      "\u001B[0;32m<ipython-input-2-f4b66bd8bfb3>\u001B[0m in \u001B[0;36m<module>\u001B[0;34m\u001B[0m\n\u001B[1;32m      1\u001B[0m \u001B[0mprice\u001B[0m \u001B[0;34m=\u001B[0m \u001B[0minput\u001B[0m\u001B[0;34m(\u001B[0m\u001B[0;34m\"Enter the price: \"\u001B[0m\u001B[0;34m)\u001B[0m\u001B[0;34m\u001B[0m\u001B[0;34m\u001B[0m\u001B[0m\n\u001B[0;32m----> 2\u001B[0;31m \u001B[0mprice\u001B[0m \u001B[0;34m=\u001B[0m \u001B[0mfloat\u001B[0m\u001B[0;34m(\u001B[0m\u001B[0mprice\u001B[0m\u001B[0;34m)\u001B[0m\u001B[0;34m\u001B[0m\u001B[0;34m\u001B[0m\u001B[0m\n\u001B[0m\u001B[1;32m      3\u001B[0m \u001B[0;34m\u001B[0m\u001B[0m\n\u001B[1;32m      4\u001B[0m \u001B[0mprice\u001B[0m \u001B[0;34m=\u001B[0m \u001B[0mfloat\u001B[0m\u001B[0;34m(\u001B[0m\u001B[0minput\u001B[0m\u001B[0;34m(\u001B[0m\u001B[0;34m\"Enter the price\"\u001B[0m\u001B[0;34m)\u001B[0m\u001B[0;34m)\u001B[0m\u001B[0;34m\u001B[0m\u001B[0;34m\u001B[0m\u001B[0m\n",
      "\u001B[0;31mValueError\u001B[0m: could not convert string to float: "
     ]
    }
   ],
   "source": [
    "price = input(\"Enter the price: \")\n",
    "price = float(price)\n",
    "\n",
    "price = float(input(\"Enter the price\"))"
   ],
   "metadata": {
    "collapsed": false,
    "pycharm": {
     "name": "#%%\n"
    }
   }
  },
  {
   "cell_type": "code",
   "execution_count": 4,
   "outputs": [
    {
     "ename": "ModuleNotFoundError",
     "evalue": "No module named 'temperature'",
     "output_type": "error",
     "traceback": [
      "\u001B[0;31m---------------------------------------------------------------------------\u001B[0m",
      "\u001B[0;31mModuleNotFoundError\u001B[0m                       Traceback (most recent call last)",
      "\u001B[0;32m<ipython-input-4-75c48673f882>\u001B[0m in \u001B[0;36m<module>\u001B[0;34m\u001B[0m\n\u001B[1;32m      1\u001B[0m \u001B[0;31m# import module_name [as namespace]\u001B[0m\u001B[0;34m\u001B[0m\u001B[0;34m\u001B[0m\u001B[0;34m\u001B[0m\u001B[0m\n\u001B[1;32m      2\u001B[0m \u001B[0;34m\u001B[0m\u001B[0m\n\u001B[0;32m----> 3\u001B[0;31m \u001B[0;32mimport\u001B[0m \u001B[0mtemperature\u001B[0m\u001B[0;34m\u001B[0m\u001B[0;34m\u001B[0m\u001B[0m\n\u001B[0m\u001B[1;32m      4\u001B[0m \u001B[0;34m\u001B[0m\u001B[0m\n\u001B[1;32m      5\u001B[0m \u001B[0mc\u001B[0m \u001B[0;34m=\u001B[0m \u001B[0mtemperature\u001B[0m\u001B[0;34m.\u001B[0m\u001B[0mto_celsius\u001B[0m\u001B[0;34m(\u001B[0m\u001B[0mf\u001B[0m\u001B[0;34m)\u001B[0m\u001B[0;34m\u001B[0m\u001B[0;34m\u001B[0m\u001B[0m\n",
      "\u001B[0;31mModuleNotFoundError\u001B[0m: No module named 'temperature'"
     ]
    }
   ],
   "source": [
    "# import module_name [as namespace]\n",
    "from Murach_Python_Publisher_Data.book_apps.ch04 import temperature\n",
    "import temperature\n",
    "\n",
    "c = temperature.to_celsius(f)\n",
    "f = temperature.to_farenheit(c)"
   ],
   "metadata": {
    "collapsed": false,
    "pycharm": {
     "name": "#%%\n"
    }
   }
  },
  {
   "cell_type": "code",
   "execution_count": null,
   "outputs": [],
   "source": [
    "from Murach_Python_Publisher_Data.book_apps.ch04 import temperature\n",
    "import temperature as temp\n",
    "\n",
    "c = temp.to_celsius(f)\n",
    "f = temp.to_farenheit(c)\n"
   ],
   "metadata": {
    "collapsed": false,
    "pycharm": {
     "name": "#%%\n"
    }
   }
  },
  {
   "cell_type": "code",
   "execution_count": null,
   "outputs": [],
   "source": [
    "from Murach_Python_Publisher_Data.book_apps.ch04 import temperature\n",
    "from temperature import to_celsius\n",
    "\n",
    "c = to_celsius(f)\n",
    "f = to_fahrenheit(c) # should fail now"
   ],
   "metadata": {
    "collapsed": false,
    "pycharm": {
     "name": "#%%\n"
    }
   }
  },
  {
   "cell_type": "code",
   "execution_count": null,
   "outputs": [],
   "source": [
    "from Murach_Python_Publisher_Data.book_apps.ch04 import temperature\n",
    "from temperature import *\n",
    "\n",
    "c = to_celsius(f)\n",
    "f = to_fahrenheit(c)"
   ],
   "metadata": {
    "collapsed": false,
    "pycharm": {
     "name": "#%%\n"
    }
   }
  },
  {
   "cell_type": "code",
   "execution_count": null,
   "outputs": [],
   "source": [
    "import random\n",
    "\n",
    "# the use of the random method\n",
    "number = random.random()                # generates a float value >= 0.0 and < 1.0\n",
    "number = random.random() * 100          # generates a float value >= 0.0 and <100.0\n",
    "\n",
    "# the use of radint method\n",
    "number = random.randint(1, 100)         # generates an int from 1 to 100\n",
    "number = random.randint(101, 200)       # generates an int from 101 to 200\n",
    "number = random.randint(0, 7)           # generates an int from 0 to 7\n",
    "\n",
    "# the use of randrange method\n",
    "number = random.randrange(1, 100)       # generates an int from 1 to 99\n",
    "number = random.randrange(100, 200, 2)  # generates an even int from 100 to 198\n",
    "number = random.randrange(11, 250, 2)   # generates an odd int from 11 to 249\n",
    "\n",
    "# code that simulates rolling a pair of dice\n",
    "die1 = random.randint(1, 6)             # generates an assumption of 6 returned\n",
    "die2 = random.randint(1, 6)             # generates an assumption of 5 returned\n",
    "print(\"Your roll: \", die1, die2)        # generates your roll 6 5"
   ],
   "metadata": {
    "collapsed": false,
    "pycharm": {
     "name": "#%%\n"
    }
   }
  }
 ],
 "metadata": {
  "kernelspec": {
   "display_name": "Python 3",
   "language": "python",
   "name": "python3"
  },
  "language_info": {
   "codemirror_mode": {
    "name": "ipython",
    "version": 2
   },
   "file_extension": ".py",
   "mimetype": "text/x-python",
   "name": "python",
   "nbconvert_exporter": "python",
   "pygments_lexer": "ipython2",
   "version": "2.7.6"
  }
 },
 "nbformat": 4,
 "nbformat_minor": 0
}