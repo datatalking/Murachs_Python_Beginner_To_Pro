{
 "cells": [
  {
   "cell_type": "code",
   "execution_count": null,
   "metadata": {
    "collapsed": true
   },
   "outputs": [],
   "source": [
    "# SOURCE Murachs Python to Pro\n",
    "# Chapter Four\n",
    "# How to define and use functions and modules\n",
    "\n",
    "# The syntax for defining a function\n",
    "arguments = 0\n",
    "\n",
    "def function_name([arguments]):\n",
    "\t\"\"\"\n",
    "\tDoc string - Explains what we are doing, usually a one or two step process, rarely three\n",
    "\t:return:\n",
    "\t\"\"\"\n",
    "\t'statements'\n",
    "\n",
    "# A function that doesn't accept arguments\n",
    "# How to define it"
   ]
  },
  {
   "cell_type": "code",
   "execution_count": null,
   "outputs": [],
   "source": [
    "def print_welcome():\n",
    "\tprint(\"Welcome to the Future Value Calculator\")\n",
    "\tprint()\n",
    "\n",
    "# How to call it\n",
    "print_welcome()"
   ],
   "metadata": {
    "collapsed": false,
    "pycharm": {
     "name": "#%%\n"
    }
   }
  },
  {
   "cell_type": "code",
   "execution_count": null,
   "outputs": [],
   "source": [
    "# A function that has one argument\n",
    "# How to define it\n",
    "\n",
    "def print_welcome(message):\n",
    "\t\"\"\"\n",
    "\tDoc string - function contains one argument that prints a message\n",
    "\t:param message:\n",
    "\t:return:\n",
    "\t\"\"\"\n",
    "\tprint(message)\n",
    "\tprint()\n",
    "\n",
    "# how to call is\n",
    "message = \"Welcome to the Future Value Calculator\"\n",
    "print_welcome()"
   ],
   "metadata": {
    "collapsed": false,
    "pycharm": {
     "name": "#%%\n"
    }
   }
  },
  {
   "cell_type": "code",
   "execution_count": 1,
   "outputs": [],
   "source": [
    "# A function that accepts two arguments and returns a value\n",
    "\n",
    "def calculate_miles_per_gallon(miles_driven, gallons_used):\n",
    "\t\"\"\"\n",
    "\tDoc string - function that contains two arguments to calculate mpg, no value tests\n",
    "\t:param miles_driven: int\n",
    "\t:param gallons_used: int\n",
    "\t:return:\n",
    "\t\"\"\"\n",
    "\tmpg = miles_driven / gallons_used\n",
    "\tmpg = round(mpg, 1)\n",
    "\treturn mpg\n",
    "\n",
    "miles = 500\n",
    "gallons = 14\n",
    "mpg = calculate_miles_per_gallon(miles, gallons)"
   ],
   "metadata": {
    "collapsed": false,
    "pycharm": {
     "name": "#%%\n"
    }
   }
  },
  {
   "cell_type": "code",
   "execution_count": null,
   "outputs": [],
   "source": [
    "# A main() function that calls another function\n",
    "# !/usr/bin/env python3\n",
    "\n",
    "def main():\n",
    "\t\"\"\"\n",
    "\tDoc string - function that calculates a future value based on interest, investment and years\n",
    "\t:return:\n",
    "\t\"\"\"\n",
    "\n",
    "\t#display a welcome message\n",
    "\tprint(\"The Future Value Calculator\\n\")\n",
    "\n",
    "\t# get input\n",
    "\tmonthly_investment = float(input(\"Enter monthly investment:   \"))\n",
    "\tyearly_interest = float(input(\"Enter yearly interest rate:  \"))\n",
    "\tyears = int(input(\"Enter number of years:       \"))\n",
    "\n",
    "\t# get the future value\n",
    "\tfuture_value = calculate_future_value(\n",
    "\t\tmonthly_investment, yearly_interest, years)\n",
    "\n",
    "\t# display output\n",
    "\tprint(\"Future value:               \", round(future_value, 2))\n",
    "\n",
    "# Two ways to calls a main() function\n",
    "#Code a simple call statement (not reccomended)\n",
    "main()\n",
    "\n",
    "# Code a call statement within an if statement\n",
    "# that checks whether the current module is the main module\n",
    "\n",
    "if __name__ == \"__main__\":\n",
    "\tmain()"
   ],
   "metadata": {
    "collapsed": false,
    "pycharm": {
     "name": "#%%\n"
    }
   }
  },
  {
   "cell_type": "code",
   "execution_count": 16,
   "outputs": [
    {
     "name": "stdout",
     "output_type": "stream",
     "text": [
      "Future value:\t\t\t350208.0\n",
      "\n",
      "Bye!\n"
     ]
    }
   ],
   "source": [
    "# The code\n",
    "#!/usr/bin/env python3\n",
    "\n",
    "def calculate_future_value(monthly_investment, yearly_investment, years):\n",
    "\t\"\"\"\n",
    "\tDoc string - accepts monthly, yearly and years for time value calculatsion\n",
    "\t:param monthly_investment:\n",
    "\t:param yearly_investment:\n",
    "\t:param years:\n",
    "\t:return:\n",
    "\t\"\"\"\n",
    "\t# convert yearly values to monthly values\n",
    "\tyearly_interest_rate = 0\n",
    "\tmonthly_interest_rate = yearly_interest_rate / 12 / 100\n",
    "\tmonths = years * 12\n",
    "\n",
    "\t# calculate future value\n",
    "\tfuture_value = 0.0\n",
    "\tfor i in range(0, months):\n",
    "\t\tfuture_value += monthly_investment\n",
    "\t\tmonthly_interest = future_value * monthly_interest_rate\n",
    "\t\tfuture_value += monthly_interest\n",
    "\treturn future_value\n",
    "\n",
    "def main():\n",
    "\t#choice = \"y\"\n",
    "\tchoice = str(input(\"Do you want to calculate future value:\\t\"))\n",
    "\twhile choice.lower() == \"y\" and choice.lower() != 'n':\n",
    "\t\t# get input from the user\n",
    "\t\tmonthly_investment = float(input(\"Enter monthly investment:\\t\"))\n",
    "\t\tyearly_interest_rate = float(input(\"Enter yearly interest rate:\\t\"))\n",
    "\t\tyears = int(input(\"Enter number of years:\\t\\t\"))\n",
    "\n",
    "\t    # get and display future value\n",
    "\t\tfuture_value = calculate_future_value(monthly_investment, yearly_interest_rate, years)\n",
    "\n",
    "\t\tprint(\"Future value:\\t\\t\\t\" + str(round(future_value, 2)))\n",
    "\t\tprint()\n",
    "\n",
    "\t\t# see if user wants to continue\n",
    "\t\tchoice = input(\"Continue? (y/n): \")\n",
    "\n",
    "\n",
    "\tprint(\"Bye!\")\n",
    "\n",
    "if __name__ == \"__main__\":\n",
    "\tmain()"
   ],
   "metadata": {
    "collapsed": false,
    "pycharm": {
     "name": "#%%\n"
    }
   }
  },
  {
   "cell_type": "code",
   "execution_count": null,
   "outputs": [],
   "source": [
    "# The calculate_future_value() function with a default value\n",
    "\n",
    "def calculate_future_value(monthly_investment, yearly_interest, years=20):\n",
    "\t\"\"\"\n",
    "\tdoc string, params to calculate the future time value of money\n",
    "\t:param monthly_investment:\n",
    "\t:param yearly_interest:\n",
    "\t:param years:\n",
    "\t:return:\n",
    "\t\"\"\"\n",
    "\t# convert yearly values to monthly values\n",
    "\tmonthly_interest_rate = yearly_interest / 12 / 100\n",
    "\tmonths = years * 12\n",
    "\n",
    "\t# calculate future values\n",
    "\tfuture_value = 0.0\n",
    "\tfor i in range(0, months):\n",
    "\t\tfuture_value += monthly_investment\n",
    "\t\tmonthly_interest = future_value * monthly_interest_rate\n",
    "\t\tfuture_value += monthly_interest\n",
    "\treturn future_value\n",
    "\n",
    "# How to call the funcion and use its default value (years = 20)\n",
    "future_value = calculate_future_value(100, 8.5)\n",
    "\n",
    "# How to call the function and override its default value\n",
    "future_value = calculate_future_value(100, 8.5, 10)\n",
    "\n",
    "# How to call the function with named arguments\n",
    "future_value = calculate_future_value(years=10,\n",
    "                                      monthly_investment=100,\n",
    "                                      yearly_interest=8.5)"
   ],
   "metadata": {
    "collapsed": false,
    "pycharm": {
     "name": "#%%\n"
    }
   }
  },
  {
   "cell_type": "code",
   "execution_count": null,
   "outputs": [],
   "source": [
    "# Functions that use local variables\n",
    "def calc_tax(amount, tax_rate):\n",
    "\ttax = amount * tax_rate\n",
    "\treturn tax\n",
    "\n",
    "def main():\n",
    "\ttax = calc_tax(85., 0.05)\n",
    "\tprint(\"Tax:\", tax)\n",
    "\n",
    "# ths would be added if script needs to always run main\n",
    "# if __name__ == '__main__':\n",
    "# else it only runs the named function/kwargs\n",
    "\n",
    "# A function that changes a global variable (not recommended)\n",
    "tax = 0.0\n",
    "\n",
    "def calc_tax(amount, tax_rate):\n",
    "\tglobal tax\n",
    "\ttax = amount * tax_rate\n",
    "\n",
    "def main():\n",
    "\tcalc_tax(85.0, 0.05)\n",
    "\tprint(\"Tax:\", tax)\n",
    "\n",
    "# A local envariable that shadows a global variable (not recommended)\n",
    "tax = 0.0\n",
    "\n",
    "def calc_tax(amount, tax_rate):\n",
    "\ttax = amount * tax_rate\n",
    "\tprint(\"Tax:\", tax)\n",
    "\n",
    "def main():\n",
    "\tcalc_tax(85.0, 0.05)\n",
    "\tprint(\"Tax:\", tax)\n",
    "\n",
    "# A function that uses a global constant (okay)\n",
    "TAX_RATE = 0.05\n",
    "def calc_tax(amount):\n",
    "\ttax = amount * TAX_RATE\n",
    "\treturn tax"
   ],
   "metadata": {
    "collapsed": false,
    "pycharm": {
     "name": "#%%\n"
    }
   }
  }
 ],
 "metadata": {
  "kernelspec": {
   "display_name": "Python 3",
   "language": "python",
   "name": "python3"
  },
  "language_info": {
   "codemirror_mode": {
    "name": "ipython",
    "version": 2
   },
   "file_extension": ".py",
   "mimetype": "text/x-python",
   "name": "python",
   "nbconvert_exporter": "python",
   "pygments_lexer": "ipython2",
   "version": "2.7.6"
  }
 },
 "nbformat": 4,
 "nbformat_minor": 0
}