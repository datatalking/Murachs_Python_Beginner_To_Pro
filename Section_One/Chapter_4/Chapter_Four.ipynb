{
 "cells": [
  {
   "cell_type": "code",
   "execution_count": null,
   "metadata": {
    "collapsed": true
   },
   "outputs": [],
   "source": [
    "# SOURCE Murachs Python to Pro\n",
    "# Chapter Four\n",
    "# How to define and use functions and modules\n",
    "\n",
    "# The syntax for defining a function\n",
    "arguments = 0\n",
    "\n",
    "def function_name([arguments]):\n",
    "\t\"\"\"\n",
    "\tDoc string - Explains what we are doing, usually a one or two step process, rarely three\n",
    "\t:return:\n",
    "\t\"\"\"\n",
    "\t'statements'\n",
    "\n",
    "# A function that doesn't accept arguments\n",
    "# How to define it\n",
    "\n",
    "\n",
    "def print_welcome():\n",
    "\tprint(\"Welcome to the Future Value Calculator\")\n",
    "\tprint()\n",
    "\n",
    "# How to call it\n",
    "print_welcome()"
   ]
  }
 ],
 "metadata": {
  "kernelspec": {
   "display_name": "Python 3",
   "language": "python",
   "name": "python3"
  },
  "language_info": {
   "codemirror_mode": {
    "name": "ipython",
    "version": 2
   },
   "file_extension": ".py",
   "mimetype": "text/x-python",
   "name": "python",
   "nbconvert_exporter": "python",
   "pygments_lexer": "ipython2",
   "version": "2.7.6"
  }
 },
 "nbformat": 4,
 "nbformat_minor": 0
}