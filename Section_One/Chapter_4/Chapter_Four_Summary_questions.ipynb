{
 "cells": [
  {
   "cell_type": "code",
   "execution_count": null,
   "metadata": {
    "collapsed": true
   },
   "outputs": [],
   "source": []
  },
  {
   "cell_type": "code",
   "execution_count": null,
   "outputs": [],
   "source": [
    "\n",
    "## TERMS\n",
    "# TODO create an random cron job quizzing user on one of these terms\n",
    "# TODO save results to sqlite dbase and\n",
    "chapter_four_terms = {1: 'control statement',\n",
    "                    2: 'Boolean expression',\n",
    "                    3: 'conditional expression',\n",
    "                    4: 'relational operator',\n",
    "                    5: 'Boolean value',\n",
    "                    6: 'compound conditional expression',\n",
    "                    7: 'logical operator',\n",
    "                    8: 'order or presedence',\n",
    "                    9: 'short-circut operator',\n",
    "                    10: 'sort sequence',\n",
    "                    11: 'method',\n",
    "                    12: 'dot operator',\n",
    "                    13: 'selection structure',\n",
    "                    14: 'if statement',\n",
    "                    15: 'if clause',\n",
    "                    16: 'elif clause',\n",
    "                    17: 'else clause',\n",
    "                    18: 'block of statements',\n",
    "                    19: 'suite of statements',\n",
    "                    20: 'data validation',\n",
    "                    21: 'pass statement',\n",
    "                    22: 'nested if statements',\n",
    "                    23: 'pseudocode',\n",
    "                    24: 'iteration structure',\n",
    "                    25: 'repetition structure',\n",
    "                    26: 'while statement'\n",
    "                    27: 'while loop',\n",
    "                    28: 'condition-controlled loop',\n",
    "                     29: 'infinite loop',\n",
    "                     30: 'for statement ',\n",
    "                     31: 'for loop',\n",
    "                     32: 'collection controlled loop',\n",
    "                     33: 'break statement',\n",
    "                     33.1: 'continue statement',\n",
    "                     33.2: 'nested loops',\n",
    "                     33.3: 'exabyte (EB)'\n",
    "       }"
   ],
   "metadata": {
    "collapsed": false,
    "pycharm": {
     "name": "#%%\n"
    }
   }
  },
  {
   "cell_type": "code",
   "execution_count": null,
   "outputs": [],
   "source": [
    "# Summary\n",
    "# TODO create a scanner to look for chapter_ _summary to quiz me\n",
    "\n",
    "chapter_three_summary = {\n",
    "    * \"When you code a 'Boolean(or conditional) expression', you can use 'relational operators' and\"\n",
    "        \"'logical operators'. You can also use parentheses to override the 'order of presendence' for he logical operators\\n\"\n",
    "    * \"To assign a 'Boolean value' to a varible, you can use the True and False keywords\",\n",
    "\t    \"You can use the lower() and upper() string 'methods' to convert the letters in a string to all lowercase\"\n",
    "        \"or uppercase. This is useful whe comparing strings.\",\n",
    "\t* \"An 'if statement' always starts with an 'if clause'. It can also have one or more 'elif clauses' and a\"\n",
    "\t    \"concluding 'else clause' but those clauses are optional.\",\n",
    "\t* \"The 'while' statement loops through a block of statements while a condition evaluates to True. This can\"\n",
    "\t    \"be referred to as a 'collection-controlld loop'\",\n",
    "\t* \"A 'break statement' breaks out of a loop by jumpting to the end of it.\",\n",
    "\t* \"A 'continue statement' continues a loop by jumping to the start of it.\",\n",
    "\t* \"You can use 'pseudocode' to plan the logic of a program\"\n",
    "\tEOL\n",
    "\n",
    "\t}\n"
   ],
   "metadata": {
    "collapsed": false,
    "pycharm": {
     "name": "#%%\n"
    }
   }
  }
 ],
 "metadata": {
  "kernelspec": {
   "display_name": "Python 3",
   "language": "python",
   "name": "python3"
  },
  "language_info": {
   "codemirror_mode": {
    "name": "ipython",
    "version": 2
   },
   "file_extension": ".py",
   "mimetype": "text/x-python",
   "name": "python",
   "nbconvert_exporter": "python",
   "pygments_lexer": "ipython2",
   "version": "2.7.6"
  }
 },
 "nbformat": 4,
 "nbformat_minor": 0
}