{
 "cells": [
  {
   "cell_type": "code",
   "execution_count": null,
   "metadata": {
    "collapsed": true
   },
   "outputs": [],
   "source": []
  },
  {
   "cell_type": "code",
   "execution_count": null,
   "outputs": [],
   "source": [
    "\n",
    "## TERMS\n",
    "# TODO create an random cron job quizzing user on one of these terms\n",
    "# TODO save results to sqlite dbase and\n",
    "chapter_four_terms = {1: 'function',\n",
    "                    2: 'define an argument',\n",
    "                    3: 'argument',\n",
    "                    4: 'call a function',\n",
    "                    5: 'return statement',\n",
    "                    6: 'parameter',\n",
    "                    7: 'main() function',\n",
    "                    8: 'named argument',\n",
    "                    9: 'scope',\n",
    "                    10: 'global variable',\n",
    "                    11: 'global scope',\n",
    "                    12: 'local variable',\n",
    "                    13: 'local variable',\n",
    "                    14: 'shadowing',\n",
    "                    15: 'global constant',\n",
    "                    16: 'module',\n",
    "                    17: 'docstring',\n",
    "                    18: 'import a module',\n",
    "                    19: 'import statement',\n",
    "                    20: 'namespace',\n",
    "                    21: 'global namespace',\n",
    "                    22: 'name collision',\n",
    "                    23: 'standard module',\n",
    "                    24: 'random module',\n",
    "                    25: 'hierarchy chart',\n",
    "                    26: 'hierarchy outline'\n",
    "                    27: 'multiple assignment statement'\n",
    "                    }"
   ],
   "metadata": {
    "collapsed": false,
    "pycharm": {
     "name": "#%%\n"
    }
   }
  },
  {
   "cell_type": "code",
   "execution_count": null,
   "outputs": [],
   "source": [
    "# Summary\n",
    "# TODO create a scanner to look for chapter_ _summary to quiz me\n",
    "\n",
    "chapter_four_summary = {\n",
    "    * \"A 'function' is a resusable unit of code that performs a task\",\n",
    "    * \"A 'function' can accept zero or more 'arguments' that supply data for the\"\n",
    "      \"function to operate on. Within the  body of a function, a 'return statement'\"\n",
    "      \"can return one or more values to the calling code\",\n",
    "\t* \"When you define a funciton\",\n",
    "\t* \"The 'while' statement loops through a block of statements while a condition evaluates to True. This can\"\n",
    "\t    \"be referred to as a 'collection-controlld loop'\",\n",
    "\t* \"A 'break statement' breaks out of a loop by jumpting to the end of it.\",\n",
    "\t* \"A 'continue statement' continues a loop by jumping to the start of it.\",\n",
    "\t* \"You can use 'pseudocode' to plan the logic of a program\"\n",
    "\tEOL\n",
    "\n",
    "\t}\n"
   ],
   "metadata": {
    "collapsed": false,
    "pycharm": {
     "name": "#%%\n"
    }
   }
  }
 ],
 "metadata": {
  "kernelspec": {
   "display_name": "Python 3",
   "language": "python",
   "name": "python3"
  },
  "language_info": {
   "codemirror_mode": {
    "name": "ipython",
    "version": 2
   },
   "file_extension": ".py",
   "mimetype": "text/x-python",
   "name": "python",
   "nbconvert_exporter": "python",
   "pygments_lexer": "ipython2",
   "version": "2.7.6"
  }
 },
 "nbformat": 4,
 "nbformat_minor": 0
}