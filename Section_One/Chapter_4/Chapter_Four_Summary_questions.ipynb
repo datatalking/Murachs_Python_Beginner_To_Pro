{
 "cells": [
  {
   "cell_type": "code",
   "execution_count": null,
   "metadata": {
    "collapsed": true
   },
   "outputs": [],
   "source": []
  },
  {
   "cell_type": "code",
   "execution_count": null,
   "outputs": [],
   "source": [
    "\n",
    "## TERMS\n",
    "# TODO create an random cron job quizzing user on one of these terms\n",
    "# TODO save results to sqlite dbase and\n",
    "chapter_four_terms = {1: 'function',\n",
    "                    2: 'define an argument',\n",
    "                    3: 'argument',\n",
    "                    4: 'call a function',\n",
    "                    5: 'return statement',\n",
    "                    6: 'parameter',\n",
    "                    7: 'main() function',\n",
    "                    8: 'named argument',\n",
    "                    9: 'scope',\n",
    "                    10: 'global variable',\n",
    "                    11: 'global scope',\n",
    "                    12: 'local variable',\n",
    "                    13: 'local variable',\n",
    "                    14: 'shadowing',\n",
    "                    15: 'global constant',\n",
    "                    16: 'module',\n",
    "                    17: 'docstring',\n",
    "                    18: 'import a module',\n",
    "                    19: 'import statement',\n",
    "                    20: 'namespace',\n",
    "                    21: 'global namespace',\n",
    "                    22: 'name collision',\n",
    "                    23: 'standard module',\n",
    "                    24: 'random module',\n",
    "                    25: 'hierarchy chart',\n",
    "                    26: 'hierarchy outline'\n",
    "                    27: 'multiple assignment statement'\n",
    "                    }"
   ],
   "metadata": {
    "collapsed": false,
    "pycharm": {
     "name": "#%%\n"
    }
   }
  },
  {
   "cell_type": "code",
   "execution_count": null,
   "outputs": [],
   "source": [
    "# Summary\n",
    "# TODO create a scanner to look for chapter_ _summary to quiz me\n",
    "\n",
    "chapter_four_summary = {\n",
    "    * \"A 'function' is a resusable unit of code that performs a task\",\n",
    "    * \"A 'function' can accept zero or more 'arguments' that supply data for the\"\n",
    "      \"function to operate on. Within the  body of a function, a 'return statement'\"\n",
    "      \"can return one or more values to the calling code\",\n",
    "\t* \"When you define a function, you can seyt default values for arguments. When\"\n",
    "      \"you call a function, you can pass 'named arguments'\",\n",
    "\t* \"'Global Variables' are defined outside of the functions of a program so they\"\n",
    "      \"have 'global scope'. As a result, they can be accessed by any of the functions\",\n",
    "\t* \"'Local Variables' are defined inside functions so they have 'local scope'. As a\"\n",
    "      \"result, they can only be accessed from within their functions\",\n",
    "\t* \"When a local variable has the same name as a global variable, the local variable\"\n",
    "      \"'shadows' the global variable\",\n",
    "\t* \"Its best practice to avoid the use of global variables and variable shadowing\"\n",
    "      \"because this leads to debugging, unessesary recursive thinking and wasted time.\",\n",
    "    *\"A 'module' is a file that stores resuable  code. When you 'import' a module it is\"\n",
    "     \"stored in a 'namespace'\",\n",
    "    *\"If you import two modules into the 'global namespace', two functions could have the\"\n",
    "     \"same name. Then, a 'name collision' occurs and one function overrides the other, \"\n",
    "     \"which leads to debugging problems\",\n",
    "    *\"Python provides many 'standard modules' that contain functions that you can use in \"\n",
    "     \"your programs. One of thes modules is the 'random module', which provides functions\"\n",
    "     \"that return random numbers\",\n",
    "    *\"To plan the functions for a program, you can use a 'hierarchy chart'. Then, you code\"\n",
    "     \"one function for each box on the hierarchy chart\",\n",
    "\tEOL\n",
    "\n",
    "\t}\n"
   ],
   "metadata": {
    "collapsed": false,
    "pycharm": {
     "name": "#%%\n"
    }
   }
  }
 ],
 "metadata": {
  "kernelspec": {
   "display_name": "Python 3",
   "language": "python",
   "name": "python3"
  },
  "language_info": {
   "codemirror_mode": {
    "name": "ipython",
    "version": 2
   },
   "file_extension": ".py",
   "mimetype": "text/x-python",
   "name": "python",
   "nbconvert_exporter": "python",
   "pygments_lexer": "ipython2",
   "version": "2.7.6"
  }
 },
 "nbformat": 4,
 "nbformat_minor": 0
}