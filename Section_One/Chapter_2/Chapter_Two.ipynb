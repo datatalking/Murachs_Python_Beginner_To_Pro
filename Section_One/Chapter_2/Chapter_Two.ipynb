{
 "cells": [
  {
   "cell_type": "code",
   "execution_count": 2,
   "metadata": {
    "collapsed": true
   },
   "outputs": [
    {
     "name": "stdout",
     "output_type": "stream",
     "text": [
      "Total Score: 50\n",
      "Average Score: 50\n"
     ]
    }
   ],
   "source": [
    "jupyter trust\n",
    "#!usr/bin/env python3\n",
    "print(\"Test score counter\")\n",
    "counter = 0\n",
    "score_total = 0\n",
    "test_score = 0\n",
    "\n",
    "while test_score != 999:\n",
    "    test_score = int(input(\"Enter test score: \"))\n",
    "    if test_score >= 0 and test_score <= 100:\n",
    "        score_total += test_score\n",
    "        counter += 1\n",
    "\n",
    "    average_score = round(score_total / counter)\n",
    "\n",
    "print(\"Total Score: \" + str(score_total))\n",
    "print(\"Average Score: \" + str(average_score))"
   ]
  },
  {
   "cell_type": "code",
   "execution_count": 8,
   "metadata": {
    "pycharm": {
     "name": "#%%\n"
    }
   },
   "outputs": [
    {
     "ename": "IndentationError",
     "evalue": "unexpected indent (<ipython-input-8-c56c444694b8>, line 6)",
     "output_type": "error",
     "traceback": [
      "\u001B[0;36m  File \u001B[0;32m\"<ipython-input-8-c56c444694b8>\"\u001B[0;36m, line \u001B[0;32m6\u001B[0m\n\u001B[0;31m    print(\"Average Score: \" + str(average_score))\u001B[0m\n\u001B[0m    ^\u001B[0m\n\u001B[0;31mIndentationError\u001B[0m\u001B[0;31m:\u001B[0m unexpected indent\n"
     ]
    }
   ],
   "source": [
    "print(\"this will generate an indentation error\")\n",
    "print(\"Total Score: \" + str(score_total))\n",
    " print(\"Average Score: \" + str(average_score))"
   ]
  },
  {
   "cell_type": "code",
   "execution_count": 1,
   "metadata": {
    "pycharm": {
     "name": "#%%"
    }
   },
   "outputs": [
    {
     "ename": "SyntaxError",
     "evalue": "unexpected character after line continuation character (<ipython-input-1-cada9702ac51>, line 5)",
     "output_type": "error",
     "traceback": [
      "\u001B[0;36m  File \u001B[0;32m\"<ipython-input-1-cada9702ac51>\"\u001B[0;36m, line \u001B[0;32m5\u001B[0m\n\u001B[0;31m    print(\"Total score: \" + str(score_total) \\\u001B[0m\n\u001B[0m                                               ^\u001B[0m\n\u001B[0;31mSyntaxError\u001B[0m\u001B[0;31m:\u001B[0m unexpected character after line continuation character\n"
     ]
    }
   ],
   "source": [
    "print(\"Figure 2-2 two ways to continue one statement over two or more lines\")\n",
    "print(\"Total score: \" + str(score_total)\n",
    "      + \"\\n Average Score: \" + str(average_score))\n",
    "\n",
    "print(\"Total score: \" + str(score_total) \\\n",
    "      + \"\\n Average Score: \" + str(average_score))"
   ]
  },
  {
   "cell_type": "code",
   "execution_count": 2,
   "metadata": {
    "pycharm": {
     "name": "#%%\n"
    }
   },
   "outputs": [],
   "source": [
    "print(\"Code that initializes variables and assigns data to them\")\n",
    "first_name = \"Mike\"     # sets first_name variable to a str of \"Mike\"\n",
    "quantity1 = 3           # sets quantity1 to an int value of 3\n",
    "quantity2 = 5           # sets quantity2 to an int value of 5\n",
    "list_price = 19.99      # sets list_price to a float value of 19.99"
   ]
  },
  {
   "cell_type": "code",
   "execution_count": 3,
   "metadata": {
    "pycharm": {
     "name": "#%%\n"
    }
   },
   "outputs": [
    {
     "name": "stdout",
     "output_type": "stream",
     "text": [
      "Code that assigns new data to the variables above\n"
     ]
    }
   ],
   "source": [
    "print(\"Code that assigns new data to the variables above\")\n",
    "first_name = \"Joel\"     # sets first_name to a str of \"Joel\"\n",
    "quantity1 = 10          # sets quantity1 to an int of 10\n",
    "quantity1 = quantity2   # sets quantity1 to an int of 5\n",
    "quantity1 = \"15\"        # sets quantity1 to a str of \"15\", not an int of 5"
   ]
  },
  {
   "cell_type": "code",
   "execution_count": 4,
   "metadata": {
    "pycharm": {
     "name": "#%%\n"
    }
   },
   "outputs": [
    {
     "name": "stdout",
     "output_type": "stream",
     "text": [
      "How to code literal values\n"
     ]
    }
   ],
   "source": [
    "print(\"How to code literal values\")\n",
    "variable = \"a value that can change, or vary, as code executes\"\n",
    "data = \"a data type defines the type of data for a value\"\n",
    "assignment_statement = \"uses the equals sign (=) to assign a value to a variable. The\" \\\n",
    "                       \"value can be a literal value, another variable, or an expression like the arithmetic\" \\\n",
    "                       \"expressions in the next figure\"\n",
    "case_sensative = \"some variable names are this because you must be sure to use the correct case\" \\\n",
    "                 \"when coding the names of variables\""
   ]
  },
  {
   "cell_type": "code",
   "execution_count": 6,
   "metadata": {
    "pycharm": {
     "name": "#%%\n"
    }
   },
   "outputs": [
    {
     "name": "stdout",
     "output_type": "stream",
     "text": [
      "python keywords\n"
     ]
    }
   ],
   "source": [
    "print(\"Python keywords\")\n",
    "\n",
    "python_keywords = {\"and, as, assert, break, class, continue, def, del elif, else, except,\"\n",
    "                    \"False, finally, for, from, global, if, import, in, is, lambda, None,\"\n",
    "                    \"nonlocal, not, or, pass, False, return, True, try, while, with, yield\"}\n"
   ]
  },
  {
   "cell_type": "code",
   "execution_count": 8,
   "metadata": {
    "pycharm": {
     "name": "#%%\n"
    }
   },
   "outputs": [
    {
     "name": "stdout",
     "output_type": "stream",
     "text": [
      "two naming styles for variables\n"
     ]
    },
    {
     "ename": "NameError",
     "evalue": "name 'variable_name' is not defined",
     "output_type": "error",
     "traceback": [
      "\u001B[0;31m---------------------------------------------------------------------------\u001B[0m",
      "\u001B[0;31mNameError\u001B[0m                                 Traceback (most recent call last)",
      "\u001B[0;32m<ipython-input-8-ca79f23c4412>\u001B[0m in \u001B[0;36m<module>\u001B[0;34m\u001B[0m\n\u001B[1;32m      1\u001B[0m \u001B[0mprint\u001B[0m\u001B[0;34m(\u001B[0m\u001B[0;34m\"two naming styles for variables\"\u001B[0m\u001B[0;34m)\u001B[0m\u001B[0;34m\u001B[0m\u001B[0;34m\u001B[0m\u001B[0m\n\u001B[1;32m      2\u001B[0m \u001B[0;34m\u001B[0m\u001B[0m\n\u001B[0;32m----> 3\u001B[0;31m \u001B[0mnaming_style1\u001B[0m \u001B[0;34m=\u001B[0m \u001B[0mvariable_name\u001B[0m   \u001B[0;31m# uderscore notation\u001B[0m\u001B[0;34m\u001B[0m\u001B[0;34m\u001B[0m\u001B[0m\n\u001B[0m\u001B[1;32m      4\u001B[0m \u001B[0mnaming_style2\u001B[0m \u001B[0;34m=\u001B[0m \u001B[0mvariableName\u001B[0m    \u001B[0;31m# camel case\u001B[0m\u001B[0;34m\u001B[0m\u001B[0;34m\u001B[0m\u001B[0m\n\u001B[1;32m      5\u001B[0m \u001B[0;34m\u001B[0m\u001B[0m\n",
      "\u001B[0;31mNameError\u001B[0m: name 'variable_name' is not defined"
     ]
    }
   ],
   "source": [
    "print(\"Two naming styles for variables\")\n",
    "\n",
    "naming_style1 = variable_name   # uderscore notation\n",
    "naming_style2 = variableName    # camel case"
   ]
  },
  {
   "cell_type": "code",
   "execution_count": 9,
   "metadata": {
    "pycharm": {
     "name": "#%%\n"
    }
   },
   "outputs": [
    {
     "name": "stdout",
     "output_type": "stream",
     "text": [
      "Code that caculates sales tax\n"
     ]
    }
   ],
   "source": [
    "print(\"Code that calculates sales tax\")\n",
    "subtotal = 200.00\n",
    "tax_percent = .05\n",
    "tax_amount = subtotal * tax_percent     #10.0\n",
    "grand_total = subtotal + tax_amount     #210.0\n"
   ]
  },
  {
   "cell_type": "code",
   "execution_count": 12,
   "metadata": {
    "pycharm": {
     "name": "#%%\n"
    }
   },
   "outputs": [
    {
     "ename": "SyntaxError",
     "evalue": "can't assign to operator (<ipython-input-12-1900e9bd3869>, line 4)",
     "output_type": "error",
     "traceback": [
      "\u001B[0;36m  File \u001B[0;32m\"<ipython-input-12-1900e9bd3869>\"\u001B[0;36m, line \u001B[0;32m4\u001B[0m\n\u001B[0;31m    perimeter = (2 * width) = (2 * length)\u001B[0m\n\u001B[0m               ^\u001B[0m\n\u001B[0;31mSyntaxError\u001B[0m\u001B[0;31m:\u001B[0m can't assign to operator\n"
     ]
    }
   ],
   "source": [
    "print(\"Code that calculates the perimeter of a rectangle\")\n",
    "width = 4.25\n",
    "length = 8.5\n",
    "perimeter = (2 * width) = (2 * length)\n",
    "perimeter"
   ]
  },
  {
   "cell_type": "code",
   "execution_count": 13,
   "metadata": {
    "pycharm": {
     "name": "#%%\n"
    }
   },
   "outputs": [
    {
     "ename": "SyntaxError",
     "evalue": "invalid syntax (<ipython-input-13-1b4b84b82054>, line 2)",
     "output_type": "error",
     "traceback": [
      "\u001B[0;36m  File \u001B[0;32m\"<ipython-input-13-1b4b84b82054>\"\u001B[0;36m, line \u001B[0;32m2\u001B[0m\n\u001B[0;31m    +=  # Adds the result of the expression to the variable\u001B[0m\n\u001B[0m     ^\u001B[0m\n\u001B[0;31mSyntaxError\u001B[0m\u001B[0;31m:\u001B[0m invalid syntax\n"
     ]
    }
   ],
   "source": [
    "print(\"The most useful compound assigment operators\")\n",
    "+=  # Adds the result of the expression to the variable\n",
    "-=  # Subtracts the result of the expression from the variable\n",
    "*=  # Multiplies the variable value by the result of the expression"
   ]
  },
  {
   "cell_type": "code",
   "execution_count": 15,
   "metadata": {
    "pycharm": {
     "name": "#%%\n"
    }
   },
   "outputs": [
    {
     "name": "stdout",
     "output_type": "stream",
     "text": [
      "Two ways to increment the number in a variable\n"
     ]
    }
   ],
   "source": [
    "print(\"Two ways to increment the number in a variable\")\n",
    "counter = 0             # counter no change\n",
    "counter = counter + 1   # counter = 1\n",
    "counter += 1            # counter = 2\n"
   ]
  },
  {
   "cell_type": "code",
   "execution_count": 16,
   "metadata": {
    "pycharm": {
     "name": "#%%\n"
    }
   },
   "outputs": [
    {
     "name": "stdout",
     "output_type": "stream",
     "text": [
      "Code that adds two numbers to a variable\n"
     ]
    }
   ],
   "source": [
    "print(\"Code that adds two numbers to a variable\")\n",
    "score_total = 0         # score_total = 0\n",
    "score_total += 70       # score_total = 70\n",
    "score_total += 80       # score_total = 150"
   ]
  },
  {
   "cell_type": "code",
   "execution_count": 17,
   "metadata": {
    "pycharm": {
     "name": "#%%\n"
    }
   },
   "outputs": [
    {
     "name": "stdout",
     "output_type": "stream",
     "text": [
      "More statements that use the compound assignment operators\n"
     ]
    }
   ],
   "source": [
    "print(\"More statements that use the compound assignment operators\")\n",
    "total = 1000.0          #\n",
    "total += 100.0          # total = 1100.0\n",
    "counter = 10            #\n",
    "counter -= 1            # counter = 9\n",
    "price = 100             #\n",
    "price *= .8             # price = 80.0"
   ]
  },
  {
   "cell_type": "code",
   "execution_count": 18,
   "metadata": {
    "pycharm": {
     "name": "#%%\n"
    }
   },
   "outputs": [
    {
     "name": "stdout",
     "output_type": "stream",
     "text": [
      "Floating point result that isn't precise\n"
     ]
    }
   ],
   "source": [
    "print(\"Floating point result that isn't precise\")\n",
    "subtotal = 74.95        # subtotal 74.95\n",
    "tax = subtotal * .1     # tax = 7.495000000000001"
   ]
  },
  {
   "cell_type": "code",
   "execution_count": 19,
   "metadata": {
    "pycharm": {
     "name": "#%%\n"
    }
   },
   "outputs": [
    {
     "name": "stdout",
     "output_type": "stream",
     "text": [
      "How to assign strings to variables\n"
     ]
    }
   ],
   "source": [
    "print(\"How to assign strings to variables\")\n",
    "first_name = \"Bob\"      # first_name = Bob\n",
    "last_name = 'Smith'     # last_name = Smith\n",
    "name = \"\"               # name equals empty string\n",
    "name = \"Bob Smith\"      # name = Bob Smith"
   ]
  },
  {
   "cell_type": "code",
   "execution_count": 20,
   "metadata": {
    "pycharm": {
     "name": "#%%\n"
    }
   },
   "outputs": [
    {
     "name": "stdout",
     "output_type": "stream",
     "text": [
      "How to join three strings with the + operator\n"
     ]
    }
   ],
   "source": [
    "print(\"How to join three strings with the + operator\")\n",
    "name = last_name + \", \" + first_name    # name is \"Smith , Bob\""
   ]
  },
  {
   "cell_type": "code",
   "execution_count": 22,
   "metadata": {
    "pycharm": {
     "name": "#%%\n"
    }
   },
   "outputs": [
    {
     "name": "stdout",
     "output_type": "stream",
     "text": [
      "How to join a string and a number with the str() function\n",
      "     What happens if you don't use the str() functinon\n"
     ]
    },
    {
     "ename": "TypeError",
     "evalue": "can only concatenate str (not \"int\") to str",
     "output_type": "error",
     "traceback": [
      "\u001B[0;31m---------------------------------------------------------------------------\u001B[0m",
      "\u001B[0;31mTypeError\u001B[0m                                 Traceback (most recent call last)",
      "\u001B[0;32m<ipython-input-22-10ecfb0bcd88>\u001B[0m in \u001B[0;36m<module>\u001B[0;34m\u001B[0m\n\u001B[1;32m      5\u001B[0m \u001B[0;34m\u001B[0m\u001B[0m\n\u001B[1;32m      6\u001B[0m \u001B[0mprint\u001B[0m\u001B[0;34m(\u001B[0m\u001B[0;34m\"     What happens if you don't use the str() functinon\"\u001B[0m\u001B[0;34m)\u001B[0m\u001B[0;34m\u001B[0m\u001B[0;34m\u001B[0m\u001B[0m\n\u001B[0;32m----> 7\u001B[0;31m \u001B[0mmessage\u001B[0m \u001B[0;34m=\u001B[0m \u001B[0mname\u001B[0m \u001B[0;34m+\u001B[0m \u001B[0;34m\" is \"\u001B[0m \u001B[0;34m+\u001B[0m \u001B[0mage\u001B[0m \u001B[0;34m+\u001B[0m \u001B[0;34m\" years old.\"\u001B[0m\u001B[0;34m\u001B[0m\u001B[0;34m\u001B[0m\u001B[0m\n\u001B[0m",
      "\u001B[0;31mTypeError\u001B[0m: can only concatenate str (not \"int\") to str"
     ]
    }
   ],
   "source": [
    "print(\"How to join a string and a number with the str() function\")\n",
    "name = \"Bob Smith\"\n",
    "age = 40\n",
    "message = name + \" is \" + str(age) + \" years old.\"\n",
    "\n",
    "print(\"     What happens if you don't use the str() functinon\")\n",
    "message = name + \" is \" + age + \" years old.\""
   ]
  },
  {
   "cell_type": "code",
   "execution_count": 23,
   "metadata": {
    "pycharm": {
     "name": "#%%\n"
    }
   },
   "outputs": [
    {
     "name": "stdout",
     "output_type": "stream",
     "text": [
      "Implicit continuation of a string over several coding lines\n"
     ]
    },
    {
     "ename": "NameError",
     "evalue": "name 'average_score' is not defined",
     "output_type": "error",
     "traceback": [
      "\u001B[0;31m---------------------------------------------------------------------------\u001B[0m",
      "\u001B[0;31mNameError\u001B[0m                                 Traceback (most recent call last)",
      "\u001B[0;32m<ipython-input-23-90820d3e28ad>\u001B[0m in \u001B[0;36m<module>\u001B[0;34m\u001B[0m\n\u001B[1;32m      3\u001B[0m       \u001B[0;34m+\u001B[0m \u001B[0mstr\u001B[0m\u001B[0;34m(\u001B[0m\u001B[0mscore_total\u001B[0m\u001B[0;34m)\u001B[0m\u001B[0;34m\u001B[0m\u001B[0;34m\u001B[0m\u001B[0m\n\u001B[1;32m      4\u001B[0m       \u001B[0;34m+\u001B[0m \u001B[0;34m\"\\nAverage Score: \"\u001B[0m\u001B[0;34m\u001B[0m\u001B[0;34m\u001B[0m\u001B[0m\n\u001B[0;32m----> 5\u001B[0;31m       + str(average_score))\n\u001B[0m",
      "\u001B[0;31mNameError\u001B[0m: name 'average_score' is not defined"
     ]
    }
   ],
   "source": [
    "print(\"Implicit continuation of a string over several coding lines\")\n",
    "print(\"Total Score: \"\n",
    "      + str(score_total)\n",
    "      + \"\\nAverage Score: \"\n",
    "      + str(average_score))"
   ]
  },
  {
   "cell_type": "code",
   "execution_count": 24,
   "metadata": {
    "pycharm": {
     "name": "#%%\n"
    }
   },
   "outputs": [
    {
     "ename": "SyntaxError",
     "evalue": "unexpected character after line continuation character (<ipython-input-24-b37235db44cc>, line 3)",
     "output_type": "error",
     "traceback": [
      "\u001B[0;36m  File \u001B[0;32m\"<ipython-input-24-b37235db44cc>\"\u001B[0;36m, line \u001B[0;32m3\u001B[0m\n\u001B[0;31m    escape_sequences = {\\n = \"new line\",\u001B[0m\n\u001B[0m                                        ^\u001B[0m\n\u001B[0;31mSyntaxError\u001B[0m\u001B[0;31m:\u001B[0m unexpected character after line continuation character\n"
     ]
    }
   ],
   "source": [
    "print(\"Common escape sequences\")\n",
    "\n",
    "escape_sequences = {\\n = \"new line\",\n",
    "                    \\t = \"tab\",\n",
    "                    \\\" = 'Quotation mark in a double quoted strong',\n",
    "                    \\' = \"Quotation mark in a single quotes string\",\n",
    "                    \\\\ = \"Backslash\"}"
   ]
  },
  {
   "cell_type": "code",
   "execution_count": 25,
   "metadata": {
    "pycharm": {
     "name": "#%%\n"
    }
   },
   "outputs": [
    {
     "name": "stdout",
     "output_type": "stream",
     "text": [
      "The new line character\n",
      "Title: Python Programming\n",
      " Quantity: 5\n"
     ]
    }
   ],
   "source": [
    "print(\"The new line character\")\n",
    "print(\"Title: Python Programming\\n Quantity: 5\")\n",
    "\n"
   ]
  },
  {
   "cell_type": "code",
   "execution_count": 28,
   "metadata": {
    "pycharm": {
     "name": "#%%\n"
    }
   },
   "outputs": [
    {
     "name": "stdout",
     "output_type": "stream",
     "text": [
      "The tab and new line characters\n",
      "Title:\t\tPython Programming\n",
      "Quantity:\t5\n"
     ]
    }
   ],
   "source": [
    "print(\"The tab and new line characters\")\n",
    "print(\"Title:\\t\\tPython Programming\\nQuantity:\\t5\")"
   ]
  },
  {
   "cell_type": "code",
   "execution_count": null,
   "metadata": {
    "pycharm": {
     "name": "#%%\n"
    }
   },
   "outputs": [],
   "source": [
    "print(\"Nobody innovative uses windows anymore but\")\n",
    "print(\"C:\\\\murach\\\\python\")"
   ]
  },
  {
   "cell_type": "code",
   "execution_count": null,
   "metadata": {
    "pycharm": {
     "name": "#%%\n"
    }
   },
   "outputs": [],
   "source": [
    "print(\"Four ways to include quotation marks in a string\")\n",
    "\n",
    "print(\"Type \\\"x\\\" to exit\")\n",
    "print('Type \\'x\\' to exit')\n",
    "print(\"Type 'x' to exit\")\n",
    "print('Type \"x\" to exit')\n"
   ]
  },
  {
   "cell_type": "code",
   "execution_count": null,
   "metadata": {
    "pycharm": {
     "is_executing": true,
     "name": "#%%\n"
    }
   },
   "outputs": [],
   "source": [
    "print(\"This is the syntax of the print() function\")\n",
    "print(\"\"\"print(data[, sep=' '][, end='\\n'])\"\"\")\n"
   ]
  },
  {
   "cell_type": "code",
   "execution_count": null,
   "metadata": {
    "pycharm": {
     "is_executing": true,
     "name": "#%%\n"
    }
   },
   "outputs": [],
   "source": [
    "print(19.99)\n",
    "print(\"Price:\", 19.99)\n",
    "print(1, 2, 3, 4)\n",
    "\n"
   ]
  },
  {
   "cell_type": "code",
   "execution_count": null,
   "metadata": {
    "pycharm": {
     "name": "#%%\n"
    }
   },
   "outputs": [],
   "source": [
    "print(\"Two ways to get the same result\")\n",
    "print(\"A print() function that recieves one string as the argument\")\n"
   ]
  }
 ],
 "metadata": {
  "kernelspec": {
   "display_name": "Python 3 (ipykernel)",
   "language": "python",
   "name": "python3"
  },
  "language_info": {
   "codemirror_mode": {
    "name": "ipython",
    "version": 2
   },
   "file_extension": ".py",
   "mimetype": "text/x-python",
   "name": "python",
   "nbconvert_exporter": "python",
   "pygments_lexer": "ipython2",
   "version": "2.7.6"
  }
 },
 "nbformat": 4,
 "nbformat_minor": 1
}