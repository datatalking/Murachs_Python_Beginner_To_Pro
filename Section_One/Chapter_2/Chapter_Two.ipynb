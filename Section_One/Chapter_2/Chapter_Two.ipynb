{
 "cells": [
  {
   "cell_type": "code",
   "execution_count": null,
   "metadata": {
    "collapsed": true
   },
   "outputs": [],
   "source": [
    "jupyter trust\n",
    "#!usr/bin/env python3\n",
    "print(\"Test score counter\")\n",
    "counter = 0\n",
    "score_total = 0\n",
    "test_score = 0\n",
    "\n",
    "while test_score != 999:\n",
    "    test_score = int(input(\"Enter test score: \"))\n",
    "    if test_score >= 0 and test_score <= 100:\n",
    "        score_total += test_score\n",
    "        counter += 1\n",
    "\n",
    "    average_score = round(score_total / counter)\n",
    "\n",
    "print(\"Total Score: \" + str(score_total))\n",
    "print(\"Average Score: \" + str(average_score))"
   ]
  },
  {
   "cell_type": "code",
   "execution_count": null,
   "metadata": {
    "pycharm": {
     "name": "#%%\n"
    }
   },
   "outputs": [],
   "source": [
    "print(\"this will generate an indentation error\")\n",
    "print(\"Total Score: \" + str(score_total))\n",
    " print(\"Average Score: \" + str(average_score))"
   ]
  },
  {
   "cell_type": "code",
   "execution_count": null,
   "metadata": {
    "pycharm": {
     "name": "#%%"
    }
   },
   "outputs": [],
   "source": [
    "print(\"Figure 2-2 two ways to continue one statement over two or more lines\")\n",
    "print(\"Total score: \" + str(score_total)\n",
    "      + \"\\n Average Score: \" + str(average_score))\n",
    "\n",
    "print(\"Total score: \" + str(score_total) \\\n",
    "      + \"\\n Average Score: \" + str(average_score))"
   ]
  },
  {
   "cell_type": "code",
   "execution_count": null,
   "metadata": {
    "pycharm": {
     "name": "#%%\n"
    }
   },
   "outputs": [],
   "source": [
    "print(\"Code that initializes variables and assigns data to them\")\n",
    "first_name = \"Mike\"     # sets first_name variable to a str of \"Mike\"\n",
    "quantity1 = 3           # sets quantity1 to an int value of 3\n",
    "quantity2 = 5           # sets quantity2 to an int value of 5\n",
    "list_price = 19.99      # sets list_price to a float value of 19.99"
   ]
  },
  {
   "cell_type": "code",
   "execution_count": null,
   "metadata": {
    "pycharm": {
     "name": "#%%\n"
    }
   },
   "outputs": [],
   "source": [
    "print(\"Code that assigns new data to the variables above\")\n",
    "first_name = \"Joel\"     # sets first_name to a str of \"Joel\"\n",
    "quantity1 = 10          # sets quantity1 to an int of 10\n",
    "quantity1 = quantity2   # sets quantity1 to an int of 5\n",
    "quantity1 = \"15\"        # sets quantity1 to a str of \"15\", not an int of 5"
   ]
  },
  {
   "cell_type": "code",
   "execution_count": null,
   "metadata": {
    "pycharm": {
     "name": "#%%\n"
    }
   },
   "outputs": [],
   "source": [
    "print(\"How to code literal values\")\n",
    "variable = \"a value that can change, or vary, as code executes\"\n",
    "data = \"a data type defines the type of data for a value\"\n",
    "assignment_statement = \"uses the equals sign (=) to assign a value to a variable. The\" \\\n",
    "                       \"value can be a literal value, another variable, or an expression like the arithmetic\" \\\n",
    "                       \"expressions in the next figure\"\n",
    "case_sensative = \"some variable names are this because you must be sure to use the correct case\" \\\n",
    "                 \"when coding the names of variables\""
   ]
  },
  {
   "cell_type": "code",
   "execution_count": null,
   "metadata": {
    "pycharm": {
     "name": "#%%\n"
    }
   },
   "outputs": [],
   "source": [
    "print(\"Python keywords\")\n",
    "\n",
    "python_keywords = {\"and, as, assert, break, class, continue, def, del elif, else, except,\"\n",
    "                    \"False, finally, for, from, global, if, import, in, is, lambda, None,\"\n",
    "                    \"nonlocal, not, or, pass, False, return, True, try, while, with, yield\"}\n"
   ]
  },
  {
   "cell_type": "code",
   "execution_count": null,
   "metadata": {
    "pycharm": {
     "name": "#%%\n"
    }
   },
   "outputs": [],
   "source": [
    "print(\"Two naming styles for variables\")\n",
    "\n",
    "naming_style1 = variable_name   # uderscore notation\n",
    "naming_style2 = variableName    # camel case"
   ]
  },
  {
   "cell_type": "code",
   "execution_count": null,
   "metadata": {
    "pycharm": {
     "name": "#%%\n"
    }
   },
   "outputs": [],
   "source": [
    "print(\"Code that calculates sales tax\")\n",
    "subtotal = 200.00\n",
    "tax_percent = .05\n",
    "tax_amount = subtotal * tax_percent     #10.0\n",
    "grand_total = subtotal + tax_amount     #210.0\n"
   ]
  },
  {
   "cell_type": "code",
   "execution_count": null,
   "metadata": {
    "pycharm": {
     "name": "#%%\n"
    }
   },
   "outputs": [],
   "source": [
    "print(\"Code that calculates the perimeter of a rectangle\")\n",
    "width = 4.25\n",
    "length = 8.5\n",
    "perimeter = (2 * width) = (2 * length)\n",
    "perimeter"
   ]
  },
  {
   "cell_type": "code",
   "execution_count": null,
   "metadata": {
    "pycharm": {
     "name": "#%%\n"
    }
   },
   "outputs": [],
   "source": [
    "print(\"The most useful compound assigment operators\")\n",
    "+=  # Adds the result of the expression to the variable\n",
    "-=  # Subtracts the result of the expression from the variable\n",
    "*=  # Multiplies the variable value by the result of the expression"
   ]
  },
  {
   "cell_type": "code",
   "execution_count": null,
   "metadata": {
    "pycharm": {
     "name": "#%%\n"
    }
   },
   "outputs": [],
   "source": [
    "print(\"Two ways to increment the number in a variable\")\n",
    "counter = 0             # counter no change\n",
    "counter = counter + 1   # counter = 1\n",
    "counter += 1            # counter = 2\n"
   ]
  },
  {
   "cell_type": "code",
   "execution_count": null,
   "metadata": {
    "pycharm": {
     "name": "#%%\n"
    }
   },
   "outputs": [],
   "source": [
    "print(\"Code that adds two numbers to a variable\")\n",
    "score_total = 0         # score_total = 0\n",
    "score_total += 70       # score_total = 70\n",
    "score_total += 80       # score_total = 150"
   ]
  },
  {
   "cell_type": "code",
   "execution_count": null,
   "metadata": {
    "pycharm": {
     "name": "#%%\n"
    }
   },
   "outputs": [],
   "source": [
    "print(\"More statements that use the compound assignment operators\")\n",
    "total = 1000.0          #\n",
    "total += 100.0          # total = 1100.0\n",
    "counter = 10            #\n",
    "counter -= 1            # counter = 9\n",
    "price = 100             #\n",
    "price *= .8             # price = 80.0"
   ]
  },
  {
   "cell_type": "code",
   "execution_count": null,
   "metadata": {
    "pycharm": {
     "name": "#%%\n"
    }
   },
   "outputs": [],
   "source": [
    "print(\"Floating point result that isn't precise\")\n",
    "subtotal = 74.95        # subtotal 74.95\n",
    "tax = subtotal * .1     # tax = 7.495000000000001"
   ]
  },
  {
   "cell_type": "code",
   "execution_count": null,
   "metadata": {
    "pycharm": {
     "name": "#%%\n"
    }
   },
   "outputs": [],
   "source": [
    "print(\"How to assign strings to variables\")\n",
    "first_name = \"Bob\"      # first_name = Bob\n",
    "last_name = 'Smith'     # last_name = Smith\n",
    "name = \"\"               # name equals empty string\n",
    "name = \"Bob Smith\"      # name = Bob Smith"
   ]
  },
  {
   "cell_type": "code",
   "execution_count": null,
   "metadata": {
    "pycharm": {
     "name": "#%%\n"
    }
   },
   "outputs": [],
   "source": [
    "print(\"How to join three strings with the + operator\")\n",
    "name = last_name + \", \" + first_name    # name is \"Smith , Bob\""
   ]
  },
  {
   "cell_type": "code",
   "execution_count": null,
   "metadata": {
    "pycharm": {
     "name": "#%%\n"
    }
   },
   "outputs": [],
   "source": [
    "print(\"How to join a string and a number with the str() function\")\n",
    "name = \"Bob Smith\"\n",
    "age = 40\n",
    "message = name + \" is \" + str(age) + \" years old.\"\n",
    "\n",
    "print(\"     What happens if you don't use the str() functinon\")\n",
    "message = name + \" is \" + age + \" years old.\""
   ]
  },
  {
   "cell_type": "code",
   "execution_count": null,
   "metadata": {
    "pycharm": {
     "name": "#%%\n"
    }
   },
   "outputs": [],
   "source": [
    "print(\"Implicit continuation of a string over several coding lines\")\n",
    "print(\"Total Score: \"\n",
    "      + str(score_total)\n",
    "      + \"\\nAverage Score: \"\n",
    "      + str(average_score))"
   ]
  },
  {
   "cell_type": "code",
   "execution_count": null,
   "metadata": {
    "pycharm": {
     "name": "#%%\n"
    }
   },
   "outputs": [],
   "source": [
    "print(\"Common escape sequences\")\n",
    "\n",
    "escape_sequences = {\\n = \"new line\",\n",
    "                    \\t = \"tab\",\n",
    "                    \\\" = 'Quotation mark in a double quoted strong',\n",
    "                    \\' = \"Quotation mark in a single quotes string\",\n",
    "                    \\\\ = \"Backslash\"}"
   ]
  },
  {
   "cell_type": "code",
   "execution_count": null,
   "metadata": {
    "pycharm": {
     "name": "#%%\n"
    }
   },
   "outputs": [],
   "source": [
    "print(\"The new line character\")\n",
    "print(\"Title: Python Programming\\n Quantity: 5\")\n",
    "\n"
   ]
  },
  {
   "cell_type": "code",
   "execution_count": null,
   "metadata": {
    "pycharm": {
     "name": "#%%\n"
    }
   },
   "outputs": [],
   "source": [
    "print(\"The tab and new line characters\")\n",
    "print(\"Title:\\t\\tPython Programming\\nQuantity:\\t5\")"
   ]
  },
  {
   "cell_type": "code",
   "execution_count": null,
   "metadata": {
    "pycharm": {
     "name": "#%%\n"
    }
   },
   "outputs": [],
   "source": [
    "print(\"Nobody innovative uses windows anymore but\")\n",
    "print(\"C:\\\\murach\\\\python\")"
   ]
  },
  {
   "cell_type": "code",
   "execution_count": null,
   "metadata": {
    "pycharm": {
     "name": "#%%\n"
    }
   },
   "outputs": [],
   "source": [
    "print(\"Four ways to include quotation marks in a string\")\n",
    "\n",
    "print(\"Type \\\"x\\\" to exit\")\n",
    "print('Type \\'x\\' to exit')\n",
    "print(\"Type 'x' to exit\")\n",
    "print('Type \"x\" to exit')\n"
   ]
  },
  {
   "cell_type": "code",
   "execution_count": null,
   "metadata": {
    "pycharm": {
     "name": "#%%\n"
    }
   },
   "outputs": [],
   "source": [
    "print(\"This is the syntax of the print() function\")\n",
    "print(\"\"\"print(data[, sep=' '][, end='\\n'])\"\"\")\n"
   ]
  },
  {
   "cell_type": "code",
   "execution_count": null,
   "metadata": {
    "pycharm": {
     "name": "#%%\n"
    }
   },
   "outputs": [],
   "source": [
    "print(19.99)\n",
    "print(\"Price:\", 19.99)\n",
    "print(1, 2, 3, 4)\n",
    "\n"
   ]
  },
  {
   "cell_type": "code",
   "execution_count": null,
   "metadata": {
    "pycharm": {
     "name": "#%%\n"
    }
   },
   "outputs": [],
   "source": [
    "print(\"Two ways to get the same result\")\n",
    "print(\"A print() function that recieves one string as the argument\")"
   ]
  },
  {
   "cell_type": "code",
   "execution_count": null,
   "outputs": [],
   "source": [
    "print(\"Code that gets string input from the user\")\n",
    "first_name = input(\"Enter your first name: \")\n",
    "print(\"Hello, \" + first_name + \"!\")"
   ],
   "metadata": {
    "collapsed": false,
    "pycharm": {
     "name": "#%%\n",
     "is_executing": true
    }
   }
  },
  {
   "cell_type": "code",
   "execution_count": 2,
   "outputs": [
    {
     "name": "stdout",
     "output_type": "stream",
     "text": [
      "Another way to get input from the user\n",
      "Hello, Andrew!\n"
     ]
    }
   ],
   "source": [
    "print(\"Another way to get input from the user\")\n",
    "first_name = input()\n",
    "print(\"Hello, \" + first_name + \"!\")"
   ],
   "metadata": {
    "collapsed": false,
    "pycharm": {
     "name": "#%%\n"
    }
   }
  },
  {
   "cell_type": "code",
   "execution_count": 4,
   "outputs": [
    {
     "name": "stdout",
     "output_type": "stream",
     "text": [
      "Code that attempts to get numeric input from the user\n"
     ]
    },
    {
     "ename": "TypeError",
     "evalue": "unsupported operand type(s) for +=: 'int' and 'str'",
     "output_type": "error",
     "traceback": [
      "\u001B[0;31m---------------------------------------------------------------------------\u001B[0m",
      "\u001B[0;31mTypeError\u001B[0m                                 Traceback (most recent call last)",
      "\u001B[0;32m<ipython-input-4-782d866e9842>\u001B[0m in \u001B[0;36m<module>\u001B[0;34m\u001B[0m\n\u001B[1;32m      2\u001B[0m \u001B[0mscore_total\u001B[0m \u001B[0;34m=\u001B[0m \u001B[0;36m0\u001B[0m\u001B[0;34m\u001B[0m\u001B[0;34m\u001B[0m\u001B[0m\n\u001B[1;32m      3\u001B[0m \u001B[0mscore\u001B[0m \u001B[0;34m=\u001B[0m \u001B[0minput\u001B[0m\u001B[0;34m(\u001B[0m\u001B[0;34m\"Enter your score: \"\u001B[0m\u001B[0;34m)\u001B[0m\u001B[0;34m\u001B[0m\u001B[0;34m\u001B[0m\u001B[0m\n\u001B[0;32m----> 4\u001B[0;31m \u001B[0mscore_total\u001B[0m \u001B[0;34m+=\u001B[0m \u001B[0mscore\u001B[0m\u001B[0;34m\u001B[0m\u001B[0;34m\u001B[0m\u001B[0m\n\u001B[0m",
      "\u001B[0;31mTypeError\u001B[0m: unsupported operand type(s) for +=: 'int' and 'str'"
     ]
    }
   ],
   "source": [
    "print(\"Code that attempts to get numeric input from the user\")\n",
    "score_total = 0\n",
    "score = input(\"Enter your score: \")\n",
    "score_total += score"
   ],
   "metadata": {
    "collapsed": false,
    "pycharm": {
     "name": "#%%\n"
    }
   }
  },
  {
   "cell_type": "code",
   "execution_count": 2,
   "outputs": [
    {
     "name": "stdout",
     "output_type": "stream",
     "text": [
      "Code that causes an unsupported operand type, you can't add fifteen to a 5\n"
     ]
    },
    {
     "ename": "TypeError",
     "evalue": "unsupported operand type(s) for +: 'int' and 'str'",
     "output_type": "error",
     "traceback": [
      "\u001B[0;31m---------------------------------------------------------------------------\u001B[0m",
      "\u001B[0;31mTypeError\u001B[0m                                 Traceback (most recent call last)",
      "\u001B[0;32m<ipython-input-2-cdcc11c6cfab>\u001B[0m in \u001B[0;36m<module>\u001B[0;34m\u001B[0m\n\u001B[1;32m      2\u001B[0m \u001B[0mx\u001B[0m \u001B[0;34m=\u001B[0m \u001B[0;36m15\u001B[0m\u001B[0;34m\u001B[0m\u001B[0;34m\u001B[0m\u001B[0m\n\u001B[1;32m      3\u001B[0m \u001B[0my\u001B[0m \u001B[0;34m=\u001B[0m \u001B[0;34m\"5\"\u001B[0m\u001B[0;34m\u001B[0m\u001B[0;34m\u001B[0m\u001B[0m\n\u001B[0;32m----> 4\u001B[0;31m \u001B[0mz\u001B[0m \u001B[0;34m=\u001B[0m \u001B[0mx\u001B[0m \u001B[0;34m+\u001B[0m \u001B[0my\u001B[0m\u001B[0;34m\u001B[0m\u001B[0;34m\u001B[0m\u001B[0m\n\u001B[0m\u001B[1;32m      5\u001B[0m \u001B[0;34m\u001B[0m\u001B[0m\n",
      "\u001B[0;31mTypeError\u001B[0m: unsupported operand type(s) for +: 'int' and 'str'"
     ]
    }
   ],
   "source": [
    "print(\"Code that causes an unsupported operand type, you can't add fifteen to a 5\")\n",
    "x = 15\n",
    "y = \"5\"\n",
    "z = x + y"
   ],
   "metadata": {
    "collapsed": false,
    "pycharm": {
     "name": "#%%\n"
    }
   }
  },
  {
   "cell_type": "code",
   "execution_count": 6,
   "outputs": [
    {
     "name": "stdout",
     "output_type": "stream",
     "text": [
      "How the int() function fixes the exception\n"
     ]
    },
    {
     "data": {
      "text/plain": "20"
     },
     "execution_count": 6,
     "metadata": {},
     "output_type": "execute_result"
    }
   ],
   "source": [
    "print(\"How the int() function fixes the exception\")\n",
    "x = 15\n",
    "y = \"5\"\n",
    "z = x + int(y)\n",
    "z"
   ],
   "metadata": {
    "collapsed": false,
    "pycharm": {
     "name": "#%%\n"
    }
   }
  },
  {
   "cell_type": "code",
   "execution_count": 7,
   "outputs": [
    {
     "name": "stdout",
     "output_type": "stream",
     "text": [
      "Code that gets an int value from the user\n"
     ]
    },
    {
     "ename": "ValueError",
     "evalue": "invalid literal for int() with base 10: 'oru'",
     "output_type": "error",
     "traceback": [
      "\u001B[0;31m---------------------------------------------------------------------------\u001B[0m",
      "\u001B[0;31mValueError\u001B[0m                                Traceback (most recent call last)",
      "\u001B[0;32m<ipython-input-7-fda34eff82a5>\u001B[0m in \u001B[0;36m<module>\u001B[0;34m\u001B[0m\n\u001B[1;32m      1\u001B[0m \u001B[0mprint\u001B[0m\u001B[0;34m(\u001B[0m\u001B[0;34m\"Code that gets an int value from the user\"\u001B[0m\u001B[0;34m)\u001B[0m\u001B[0;34m\u001B[0m\u001B[0;34m\u001B[0m\u001B[0m\n\u001B[1;32m      2\u001B[0m \u001B[0mquantity\u001B[0m \u001B[0;34m=\u001B[0m \u001B[0minput\u001B[0m\u001B[0;34m(\u001B[0m\u001B[0;34m\"Enter the quantity: \"\u001B[0m\u001B[0;34m)\u001B[0m\u001B[0;34m\u001B[0m\u001B[0;34m\u001B[0m\u001B[0m\n\u001B[0;32m----> 3\u001B[0;31m \u001B[0mquantity\u001B[0m \u001B[0;34m=\u001B[0m \u001B[0mint\u001B[0m\u001B[0;34m(\u001B[0m\u001B[0mquantity\u001B[0m\u001B[0;34m)\u001B[0m\u001B[0;34m\u001B[0m\u001B[0;34m\u001B[0m\u001B[0m\n\u001B[0m\u001B[1;32m      4\u001B[0m \u001B[0mprint\u001B[0m\u001B[0;34m(\u001B[0m\u001B[0;34m\"How to use chaining\"\u001B[0m\u001B[0;34m)\u001B[0m\u001B[0;34m\u001B[0m\u001B[0;34m\u001B[0m\u001B[0m\n\u001B[1;32m      5\u001B[0m \u001B[0mquantity\u001B[0m \u001B[0;34m=\u001B[0m \u001B[0mint\u001B[0m\u001B[0;34m(\u001B[0m\u001B[0minput\u001B[0m\u001B[0;34m(\u001B[0m\u001B[0;34m\"Enter the quantity: \"\u001B[0m\u001B[0;34m)\u001B[0m\u001B[0;34m)\u001B[0m\u001B[0;34m\u001B[0m\u001B[0;34m\u001B[0m\u001B[0m\n",
      "\u001B[0;31mValueError\u001B[0m: invalid literal for int() with base 10: 'oru'"
     ]
    }
   ],
   "source": [
    "print(\"Code that gets an int value from the user\")\n",
    "quantity = input(\"Enter the quantity: \")\n",
    "quantity = int(quantity)\n",
    "print(\"How to use chaining\")\n",
    "quantity = int(input(\"Enter the quantity: \"))"
   ],
   "metadata": {
    "collapsed": false,
    "pycharm": {
     "name": "#%%\n"
    }
   }
  },
  {
   "cell_type": "code",
   "execution_count": 11,
   "outputs": [
    {
     "name": "stdout",
     "output_type": "stream",
     "text": [
      "Code that gets a value float from the user\n"
     ]
    },
    {
     "ename": "TypeError",
     "evalue": "'int' object is not callable",
     "output_type": "error",
     "traceback": [
      "\u001B[0;31m---------------------------------------------------------------------------\u001B[0m",
      "\u001B[0;31mTypeError\u001B[0m                                 Traceback (most recent call last)",
      "\u001B[0;32m<ipython-input-11-9c5b97042b30>\u001B[0m in \u001B[0;36m<module>\u001B[0;34m\u001B[0m\n\u001B[1;32m      1\u001B[0m \u001B[0mprint\u001B[0m\u001B[0;34m(\u001B[0m\u001B[0;34m\"Code that gets a value float from the user\"\u001B[0m\u001B[0;34m)\u001B[0m\u001B[0;34m\u001B[0m\u001B[0;34m\u001B[0m\u001B[0m\n\u001B[1;32m      2\u001B[0m \u001B[0minput\u001B[0m \u001B[0;34m=\u001B[0m \u001B[0;36m5\u001B[0m\u001B[0;34m\u001B[0m\u001B[0;34m\u001B[0m\u001B[0m\n\u001B[0;32m----> 3\u001B[0;31m \u001B[0mprice\u001B[0m \u001B[0;34m=\u001B[0m \u001B[0minput\u001B[0m\u001B[0;34m(\u001B[0m\u001B[0;34m\"Enter the price: \"\u001B[0m\u001B[0;34m)\u001B[0m\u001B[0;34m\u001B[0m\u001B[0;34m\u001B[0m\u001B[0m\n\u001B[0m\u001B[1;32m      4\u001B[0m \u001B[0mprice\u001B[0m \u001B[0;34m=\u001B[0m \u001B[0mfloat\u001B[0m\u001B[0;34m(\u001B[0m\u001B[0mprice\u001B[0m\u001B[0;34m)\u001B[0m\u001B[0;34m\u001B[0m\u001B[0;34m\u001B[0m\u001B[0m\n\u001B[1;32m      5\u001B[0m \u001B[0mprice\u001B[0m \u001B[0;34m=\u001B[0m \u001B[0mfloat\u001B[0m\u001B[0;34m(\u001B[0m\u001B[0minput\u001B[0m\u001B[0;34m(\u001B[0m\u001B[0;34m\"Enter the price: \"\u001B[0m\u001B[0;34m)\u001B[0m\u001B[0;34m)\u001B[0m\u001B[0;34m\u001B[0m\u001B[0;34m\u001B[0m\u001B[0m\n",
      "\u001B[0;31mTypeError\u001B[0m: 'int' object is not callable"
     ]
    }
   ],
   "source": [
    "print(\"Code that gets a value float from the user\")\n",
    "\n",
    "price = input(\"Enter the price: \")\n",
    "price = float(price)\n",
    "price = float(input(\"Enter the price: \"))"
   ],
   "metadata": {
    "collapsed": false,
    "pycharm": {
     "name": "#%%\n"
    }
   }
  }
 ],
 "metadata": {
  "kernelspec": {
   "display_name": "Python 3 (ipykernel)",
   "language": "python",
   "name": "python3"
  },
  "language_info": {
   "codemirror_mode": {
    "name": "ipython",
    "version": 2
   },
   "file_extension": ".py",
   "mimetype": "text/x-python",
   "name": "python",
   "nbconvert_exporter": "python",
   "pygments_lexer": "ipython2",
   "version": "2.7.6"
  }
 },
 "nbformat": 4,
 "nbformat_minor": 1
}