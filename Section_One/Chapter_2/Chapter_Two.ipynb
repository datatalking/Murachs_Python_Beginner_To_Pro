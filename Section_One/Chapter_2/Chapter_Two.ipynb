{
 "cells": [
  {
   "cell_type": "code",
   "execution_count": 1,
   "metadata": {
    "collapsed": true
   },
   "outputs": [
    {
     "ename": "SyntaxError",
     "evalue": "invalid syntax (<ipython-input-1-d28fdeb56935>, line 1)",
     "output_type": "error",
     "traceback": [
      "\u001B[0;36m  File \u001B[0;32m\"<ipython-input-1-d28fdeb56935>\"\u001B[0;36m, line \u001B[0;32m1\u001B[0m\n\u001B[0;31m    jupyter trust\u001B[0m\n\u001B[0m                ^\u001B[0m\n\u001B[0;31mSyntaxError\u001B[0m\u001B[0;31m:\u001B[0m invalid syntax\n"
     ]
    }
   ],
   "source": [
    "#jupyter trust\n",
    "#!usr/bin/env python3\n",
    "print(\"Test score counter\")\n",
    "counter = 0\n",
    "score_total = 0\n",
    "test_score = 0\n",
    "\n",
    "while test_score != 999:\n",
    "    test_score = int(input(\"Enter test score: \"))\n",
    "    if test_score >= 0 and test_score <= 100:\n",
    "        score_total += test_score\n",
    "        counter += 1\n",
    "\n",
    "    average_score = round(score_total / counter)\n",
    "\n",
    "print(\"Total Score: \" + str(score_total))\n",
    "print(\"Average Score: \" + str(average_score))"
   ]
  },
  {
   "cell_type": "code",
   "execution_count": null,
   "metadata": {
    "pycharm": {
     "name": "#%%\n"
    }
   },
   "outputs": [],
   "source": [
    "print(\"this will generate an indentation error\")\n",
    "print(\"Total Score: \" + str(score_total))\n",
    " print(\"Average Score: \" + str(average_score))"
   ]
  },
  {
   "cell_type": "code",
   "execution_count": null,
   "metadata": {
    "pycharm": {
     "name": "#%%"
    }
   },
   "outputs": [],
   "source": [
    "print(\"Figure 2-2 two ways to continue one statement over two or more lines\")\n",
    "print(\"Total score: \" + str(score_total)\n",
    "      + \"\\n Average Score: \" + str(average_score))\n",
    "\n",
    "print(\"Total score: \" + str(score_total) \\\n",
    "      + \"\\n Average Score: \" + str(average_score))"
   ]
  },
  {
   "cell_type": "code",
   "execution_count": null,
   "metadata": {
    "pycharm": {
     "name": "#%%\n"
    }
   },
   "outputs": [],
   "source": [
    "print(\"Code that initializes variables and assigns data to them\")\n",
    "first_name = \"Mike\"     # sets first_name variable to a str of \"Mike\"\n",
    "quantity1 = 3           # sets quantity1 to an int value of 3\n",
    "quantity2 = 5           # sets quantity2 to an int value of 5\n",
    "list_price = 19.99      # sets list_price to a float value of 19.99"
   ]
  },
  {
   "cell_type": "code",
   "execution_count": null,
   "metadata": {
    "pycharm": {
     "name": "#%%\n"
    }
   },
   "outputs": [],
   "source": [
    "print(\"Code that assigns new data to the variables above\")\n",
    "first_name = \"Joel\"     # sets first_name to a str of \"Joel\"\n",
    "quantity1 = 10          # sets quantity1 to an int of 10\n",
    "quantity1 = quantity2   # sets quantity1 to an int of 5\n",
    "quantity1 = \"15\"        # sets quantity1 to a str of \"15\", not an int of 5"
   ]
  },
  {
   "cell_type": "code",
   "execution_count": null,
   "metadata": {
    "pycharm": {
     "name": "#%%\n"
    }
   },
   "outputs": [],
   "source": [
    "print(\"How to code literal values\")\n",
    "variable = \"a value that can change, or vary, as code executes\"\n",
    "data = \"a data type defines the type of data for a value\"\n",
    "assignment_statement = \"uses the equals sign (=) to assign a value to a variable. The\" \\\n",
    "                       \"value can be a literal value, another variable, or an expression like the arithmetic\" \\\n",
    "                       \"expressions in the next figure\"\n",
    "case_sensative = \"some variable names are this because you must be sure to use the correct case\" \\\n",
    "                 \"when coding the names of variables\""
   ]
  },
  {
   "cell_type": "code",
   "execution_count": null,
   "metadata": {
    "pycharm": {
     "name": "#%%\n"
    }
   },
   "outputs": [],
   "source": [
    "print(\"Python keywords\")\n",
    "\n",
    "python_keywords = {\"and, as, assert, break, class, continue, def, del elif, else, except,\"\n",
    "                    \"False, finally, for, from, global, if, import, in, is, lambda, None,\"\n",
    "                    \"nonlocal, not, or, pass, False, return, True, try, while, with, yield\"}\n"
   ]
  },
  {
   "cell_type": "code",
   "execution_count": null,
   "metadata": {
    "pycharm": {
     "name": "#%%\n"
    }
   },
   "outputs": [],
   "source": [
    "print(\"Two naming styles for variables\")\n",
    "\n",
    "naming_style1 = variable_name   # uderscore notation\n",
    "naming_style2 = variableName    # camel case"
   ]
  },
  {
   "cell_type": "code",
   "execution_count": null,
   "metadata": {
    "pycharm": {
     "name": "#%%\n"
    }
   },
   "outputs": [],
   "source": [
    "print(\"Code that calculates sales tax\")\n",
    "subtotal = 200.00\n",
    "tax_percent = .05\n",
    "tax_amount = subtotal * tax_percent     #10.0\n",
    "grand_total = subtotal + tax_amount     #210.0\n"
   ]
  },
  {
   "cell_type": "code",
   "execution_count": null,
   "metadata": {
    "pycharm": {
     "name": "#%%\n"
    }
   },
   "outputs": [],
   "source": [
    "print(\"Code that calculates the perimeter of a rectangle\")\n",
    "width = 4.25\n",
    "length = 8.5\n",
    "perimeter = (2 * width) = (2 * length)\n",
    "perimeter"
   ]
  },
  {
   "cell_type": "code",
   "execution_count": null,
   "metadata": {
    "pycharm": {
     "name": "#%%\n"
    }
   },
   "outputs": [],
   "source": [
    "print(\"The most useful compound assigment operators\")\n",
    "+=  # Adds the result of the expression to the variable\n",
    "-=  # Subtracts the result of the expression from the variable\n",
    "*=  # Multiplies the variable value by the result of the expression"
   ]
  },
  {
   "cell_type": "code",
   "execution_count": null,
   "metadata": {
    "pycharm": {
     "name": "#%%\n"
    }
   },
   "outputs": [],
   "source": [
    "print(\"Two ways to increment the number in a variable\")\n",
    "counter = 0             # counter no change\n",
    "counter = counter + 1   # counter = 1\n",
    "counter += 1            # counter = 2\n"
   ]
  },
  {
   "cell_type": "code",
   "execution_count": null,
   "metadata": {
    "pycharm": {
     "name": "#%%\n"
    }
   },
   "outputs": [],
   "source": [
    "print(\"Code that adds two numbers to a variable\")\n",
    "score_total = 0         # score_total = 0\n",
    "score_total += 70       # score_total = 70\n",
    "score_total += 80       # score_total = 150"
   ]
  },
  {
   "cell_type": "code",
   "execution_count": null,
   "metadata": {
    "pycharm": {
     "name": "#%%\n"
    }
   },
   "outputs": [],
   "source": [
    "print(\"More statements that use the compound assignment operators\")\n",
    "total = 1000.0          #\n",
    "total += 100.0          # total = 1100.0\n",
    "counter = 10            #\n",
    "counter -= 1            # counter = 9\n",
    "price = 100             #\n",
    "price *= .8             # price = 80.0"
   ]
  },
  {
   "cell_type": "code",
   "execution_count": null,
   "metadata": {
    "pycharm": {
     "name": "#%%\n"
    }
   },
   "outputs": [],
   "source": [
    "print(\"Floating point result that isn't precise\")\n",
    "subtotal = 74.95        # subtotal 74.95\n",
    "tax = subtotal * .1     # tax = 7.495000000000001"
   ]
  },
  {
   "cell_type": "code",
   "execution_count": null,
   "metadata": {
    "pycharm": {
     "name": "#%%\n"
    }
   },
   "outputs": [],
   "source": [
    "print(\"How to assign strings to variables\")\n",
    "first_name = \"Bob\"      # first_name = Bob\n",
    "last_name = 'Smith'     # last_name = Smith\n",
    "name = \"\"               # name equals empty string\n",
    "name = \"Bob Smith\"      # name = Bob Smith"
   ]
  },
  {
   "cell_type": "code",
   "execution_count": null,
   "metadata": {
    "pycharm": {
     "name": "#%%\n"
    }
   },
   "outputs": [],
   "source": [
    "print(\"How to join three strings with the + operator\")\n",
    "name = last_name + \", \" + first_name    # name is \"Smith , Bob\""
   ]
  },
  {
   "cell_type": "code",
   "execution_count": null,
   "metadata": {
    "pycharm": {
     "name": "#%%\n"
    }
   },
   "outputs": [],
   "source": [
    "print(\"How to join a string and a number with the str() function\")\n",
    "name = \"Bob Smith\"\n",
    "age = 40\n",
    "message = name + \" is \" + str(age) + \" years old.\"\n",
    "\n",
    "print(\"     What happens if you don't use the str() functinon\")\n",
    "message = name + \" is \" + age + \" years old.\""
   ]
  },
  {
   "cell_type": "code",
   "execution_count": null,
   "metadata": {
    "pycharm": {
     "name": "#%%\n"
    }
   },
   "outputs": [],
   "source": [
    "print(\"Implicit continuation of a string over several coding lines\")\n",
    "print(\"Total Score: \"\n",
    "      + str(score_total)\n",
    "      + \"\\nAverage Score: \"\n",
    "      + str(average_score))"
   ]
  },
  {
   "cell_type": "code",
   "execution_count": null,
   "metadata": {
    "pycharm": {
     "name": "#%%\n"
    }
   },
   "outputs": [],
   "source": [
    "print(\"Common escape sequences\")\n",
    "\n",
    "escape_sequences = {\\n = \"new line\",\n",
    "                    \\t = \"tab\",\n",
    "                    \\\" = 'Quotation mark in a double quoted strong',\n",
    "                    \\' = \"Quotation mark in a single quotes string\",\n",
    "                    \\\\ = \"Backslash\"}"
   ]
  },
  {
   "cell_type": "code",
   "execution_count": null,
   "metadata": {
    "pycharm": {
     "name": "#%%\n"
    }
   },
   "outputs": [],
   "source": [
    "print(\"The new line character\")\n",
    "print(\"Title: Python Programming\\n Quantity: 5\")\n",
    "\n"
   ]
  },
  {
   "cell_type": "code",
   "execution_count": null,
   "metadata": {
    "pycharm": {
     "name": "#%%\n"
    }
   },
   "outputs": [],
   "source": [
    "print(\"The tab and new line characters\")\n",
    "print(\"Title:\\t\\tPython Programming\\nQuantity:\\t5\")"
   ]
  },
  {
   "cell_type": "code",
   "execution_count": null,
   "metadata": {
    "pycharm": {
     "name": "#%%\n"
    }
   },
   "outputs": [],
   "source": [
    "print(\"Nobody innovative uses windows anymore but\")\n",
    "print(\"C:\\\\murach\\\\python\")"
   ]
  },
  {
   "cell_type": "code",
   "execution_count": null,
   "metadata": {
    "pycharm": {
     "name": "#%%\n"
    }
   },
   "outputs": [],
   "source": [
    "print(\"Four ways to include quotation marks in a string\")\n",
    "\n",
    "print(\"Type \\\"x\\\" to exit\")\n",
    "print('Type \\'x\\' to exit')\n",
    "print(\"Type 'x' to exit\")\n",
    "print('Type \"x\" to exit')\n"
   ]
  },
  {
   "cell_type": "code",
   "execution_count": null,
   "metadata": {
    "pycharm": {
     "name": "#%%\n"
    }
   },
   "outputs": [],
   "source": [
    "print(\"This is the syntax of the print() function\")\n",
    "print(\"\"\"print(data[, sep=' '][, end='\\n'])\"\"\")\n"
   ]
  },
  {
   "cell_type": "code",
   "execution_count": null,
   "metadata": {
    "pycharm": {
     "name": "#%%\n"
    }
   },
   "outputs": [],
   "source": [
    "print(19.99)\n",
    "print(\"Price:\", 19.99)\n",
    "print(1, 2, 3, 4)\n",
    "\n"
   ]
  },
  {
   "cell_type": "code",
   "execution_count": null,
   "metadata": {
    "pycharm": {
     "name": "#%%\n"
    }
   },
   "outputs": [],
   "source": [
    "print(\"Two ways to get the same result\")\n",
    "print(\"A print() function that recieves one string as the argument\")"
   ]
  },
  {
   "cell_type": "code",
   "execution_count": null,
   "outputs": [],
   "source": [
    "print(\"Code that gets string input from the user\")\n",
    "first_name = input(\"Enter your first name: \")\n",
    "print(\"Hello, \" + first_name + \"!\")"
   ],
   "metadata": {
    "collapsed": false,
    "pycharm": {
     "name": "#%%\n"
    }
   }
  },
  {
   "cell_type": "code",
   "execution_count": null,
   "outputs": [],
   "source": [
    "print(\"Another way to get input from the user\")\n",
    "first_name = input()\n",
    "print(\"Hello, \" + first_name + \"!\")"
   ],
   "metadata": {
    "collapsed": false,
    "pycharm": {
     "name": "#%%\n"
    }
   }
  },
  {
   "cell_type": "code",
   "execution_count": null,
   "outputs": [],
   "source": [
    "print(\"Code that attempts to get numeric input from the user\")\n",
    "score_total = 0\n",
    "score = input(\"Enter your score: \")\n",
    "score_total += score"
   ],
   "metadata": {
    "collapsed": false,
    "pycharm": {
     "name": "#%%\n"
    }
   }
  },
  {
   "cell_type": "code",
   "execution_count": null,
   "outputs": [],
   "source": [
    "print(\"Code that causes an unsupported operand type, you can't add fifteen to a 5\")\n",
    "x = 15\n",
    "y = \"5\"\n",
    "z = x + y"
   ],
   "metadata": {
    "collapsed": false,
    "pycharm": {
     "name": "#%%\n"
    }
   }
  },
  {
   "cell_type": "code",
   "execution_count": null,
   "outputs": [],
   "source": [
    "print(\"How the int() function fixes the exception\")\n",
    "x = 15\n",
    "y = \"5\"\n",
    "z = x + int(y)\n",
    "z"
   ],
   "metadata": {
    "collapsed": false,
    "pycharm": {
     "name": "#%%\n"
    }
   }
  },
  {
   "cell_type": "code",
   "execution_count": null,
   "outputs": [],
   "source": [
    "print(\"Code that gets an int value from the user\")\n",
    "quantity = input(\"Enter the quantity: \")\n",
    "quantity = int(quantity)\n",
    "print(\"How to use chaining\")\n",
    "quantity = int(input(\"Enter the quantity: \"))"
   ],
   "metadata": {
    "collapsed": false,
    "pycharm": {
     "name": "#%%\n"
    }
   }
  },
  {
   "cell_type": "code",
   "execution_count": null,
   "outputs": [],
   "source": [
    "print(\"Code that gets a value float from the user\")\n",
    "\n",
    "price = input(\"Enter the price: \")\n",
    "price = float(price)\n",
    "price = float(input(\"Enter the price: \"))"
   ],
   "metadata": {
    "collapsed": false,
    "pycharm": {
     "name": "#%%\n"
    }
   }
  },
  {
   "cell_type": "code",
   "execution_count": null,
   "outputs": [],
   "source": [
    "print(\"Code that uses the round() function\")\n",
    "miles_driven = 150\n",
    "gallons_used = 5.875\n",
    "mpg = miles_driven / gallons_used\n",
    "mpg = round(mpg, 2)\n",
    "\n",
    "print(\"How to combine the last two statements\")\n",
    "mpg = round(miles_driven / gallons_used, 2)"
   ],
   "metadata": {
    "collapsed": false,
    "pycharm": {
     "name": "#%%\n"
    }
   }
  },
  {
   "cell_type": "code",
   "execution_count": null,
   "outputs": [],
   "source": [
    "print(\"The Full Code\")\n",
    "#!/usr/bin/env python3\n",
    "\n",
    "# display a title\n",
    "print(\"The Miles Per Gallon program\")\n",
    "print()\n",
    "\n",
    "# get input from the user\n",
    "miles_driven = float(input(\"Enter miles driven: \\t\\t\"))\n",
    "gallons_used = float(input(\"Enter gallons of gas used:\\t\"))\n",
    "\n",
    "# calculate and round miles per gallon\n",
    "mpg = miles_driven / gallons_used\n",
    "mpg = round(mpg, 2)\n",
    "\n",
    "# display the result\n",
    "print()\n",
    "print(\"Miles Per Gallon:\\t\\t\" + str(mpg))\n",
    "print()\n",
    "print(\"Alrighty then, bub bye\")"
   ],
   "metadata": {
    "collapsed": false,
    "pycharm": {
     "name": "#%%\n"
    }
   }
  },
  {
   "cell_type": "code",
   "execution_count": null,
   "outputs": [],
   "source": [
    "print(\"The Code\")\n",
    "\n",
    "#!usr/bin/env python3\n",
    "\n",
    "# display a title\n",
    "print(\"The Test Scores program\")\n",
    "print()\n",
    "print(\"Enter 3 test scores\")\n",
    "print(\"=======================\")\n",
    "\n",
    "# get scores from the user and accumulate the total\n",
    "total_score = 0\n",
    "total_score += int(input(\"Enter test score: \"))\n",
    "total_score += int(input(\"Enter test score: \"))\n",
    "total_score += int(input(\"Enter test score: \"))\n",
    "\n",
    "# calculate average score\n",
    "average_score = round(total_score / 3)\n",
    "\n",
    "# format and display the result\n",
    "print(\"=======================\")\n",
    "print(\"Total Score:  \", total_score,\n",
    "      \"\\nAverage Score:\", average_score)\n",
    "print()\n",
    "print(\"This is you blah blah blah\")\n",
    "print(\"This is me, bub bye\")"
   ],
   "metadata": {
    "collapsed": false,
    "pycharm": {
     "name": "#%%\n"
    }
   }
  },
  {
   "cell_type": "code",
   "execution_count": null,
   "outputs": [],
   "source": [
    "chapter_two_terms = {1: 'Statement',\n",
    "                     2: 'implied continuation',\n",
    "                     3: 'explicit continuation',\n",
    "                     4: 'shebang line',\n",
    "                     5: 'comment',\n",
    "                     6: 'block comment',\n",
    "                     7: 'inline comment',\n",
    "                     8: 'comment out',\n",
    "                     9: 'uncomment',\n",
    "                     10: 'built-in function',\n",
    "                     11: 'function',\n",
    "                     12: 'call a function',\n",
    "                     13: 'argument',\n",
    "                     14: 'data type',\n",
    "                     15: 'string',\n",
    "                     16: 'str data type',\n",
    "                     17: 'integer',\n",
    "                     18: 'int data type',\n",
    "                     19: 'floating-point number',\n",
    "                     20: 'float data type',\n",
    "                     21: 'variable',\n",
    "                     22: 'assignment statement',\n",
    "                     23: 'literal',\n",
    "                     24: 'string literal',\n",
    "                     25: 'numeric literal',\n",
    "                     26: 'case-sensative',\n",
    "                     27: 'keyword',\n",
    "                     28: 'underscore notation',\n",
    "                     29: 'camel case',\n",
    "                     30: 'arithmetic expression',\n",
    "                     31: 'operand',\n",
    "                     32: 'arithmetic operator',\n",
    "                     33: 'modulo operator',\n",
    "                     34: 'remainder operator',\n",
    "                     35: 'order of precedence',\n",
    "                     36: 'compound assignment',\n",
    "                     37: 'empty string',\n",
    "                     38: 'concatenate',\n",
    "                     39: 'join',\n",
    "                     40: 'escape sequence',\n",
    "                     41: 'named argument',\n",
    "                     42: 'prompt',\n",
    "                     43: 'chain functions'}\n",
    "\n"
   ],
   "metadata": {
    "collapsed": false,
    "pycharm": {
     "name": "#%%\n"
    }
   }
  },
  {
   "cell_type": "code",
   "execution_count": null,
   "outputs": [],
   "source": [
    "chapter_two_summary = {\n",
    "    * \"A Python 'statement' has simple syntax that rlies on indentation. A statement can be continued\n",
    "  \"by using 'implicit continuation'\",\n",
    "    *\"Python 'comments' can be 'block' or 'inline'. Comments can also be used to 'comment out'\""
   ],
   "metadata": {
    "collapsed": false,
    "pycharm": {
     "name": "#%%\n"
    }
   }
  }
 ],
 "metadata": {
  "kernelspec": {
   "display_name": "Python 3 (ipykernel)",
   "language": "python",
   "name": "python3"
  },
  "language_info": {
   "codemirror_mode": {
    "name": "ipython",
    "version": 2
   },
   "file_extension": ".py",
   "mimetype": "text/x-python",
   "name": "python",
   "nbconvert_exporter": "python",
   "pygments_lexer": "ipython2",
   "version": "2.7.6"
  }
 },
 "nbformat": 4,
 "nbformat_minor": 1
}