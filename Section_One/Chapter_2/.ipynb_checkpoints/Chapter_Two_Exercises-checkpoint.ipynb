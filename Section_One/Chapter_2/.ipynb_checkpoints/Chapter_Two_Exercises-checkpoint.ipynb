{
 "cells": [
  {
   "cell_type": "code",
   "execution_count": null,
   "metadata": {
    "pycharm": {
     "is_executing": true
    }
   },
   "outputs": [],
   "source": [
    "#Exercise2-1 page 62\n",
    "#1 from pycharm\n",
    "#2 done\n",
    "#3 test the program with invalid entries, dog, bark, mac, shark\n",
    "\n",
    "print(\"The Full Code\")\n",
    "#!/usr/bin/env python3\n",
    "\n",
    "# display a title\n",
    "print(\"The Miles Per Gallon program\")\n",
    "print()\n",
    "\n",
    "# get input from the user\n",
    "miles_driven = float(input(\"Enter miles driven: \\t\\t\"))\n",
    "gallons_used = float(input(\"Enter gallons of gas used:\\t\"))\n",
    "\n",
    "# calculate and round miles per gallon\n",
    "mpg = miles_driven / gallons_used\n",
    "mpg = round(mpg, 2)\n",
    "\n",
    "# display the result\n",
    "print()\n",
    "print(\"Miles Per Gallon:\\t\\t\" + str(mpg))\n",
    "print()\n",
    "print(\"Alrighty then, bub bye\")"
   ]
  },
  {
   "cell_type": "code",
   "execution_count": null,
   "metadata": {},
   "outputs": [],
   "source": []
  }
 ],
 "metadata": {
  "kernelspec": {
   "display_name": "Python 3",
   "language": "python",
   "name": "python3"
  },
  "language_info": {
   "codemirror_mode": {
    "name": "ipython",
    "version": 2
   },
   "file_extension": ".py",
   "mimetype": "text/x-python",
   "name": "python",
   "nbconvert_exporter": "python",
   "pygments_lexer": "ipython2",
   "version": "2.7.6"
  }
 },
 "nbformat": 4,
 "nbformat_minor": 1
}
