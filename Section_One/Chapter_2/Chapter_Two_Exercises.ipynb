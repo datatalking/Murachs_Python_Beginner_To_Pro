{
 "cells": [
  {
   "cell_type": "code",
   "execution_count": 8,
   "metadata": {},
   "outputs": [
    {
     "ename": "SyntaxError",
     "evalue": "'break' outside loop (<ipython-input-8-f6241a081dab>, line 20)",
     "output_type": "error",
     "traceback": [
      "\u001B[0;36m  File \u001B[0;32m\"<ipython-input-8-f6241a081dab>\"\u001B[0;36m, line \u001B[0;32m20\u001B[0m\n\u001B[0;31m    \u001B[0m\n\u001B[0m    ^\u001B[0m\n\u001B[0;31mSyntaxError\u001B[0m\u001B[0;31m:\u001B[0m 'break' outside loop\n"
     ]
    }
   ],
   "source": [
    "#Exercise2-1 page 62\n",
    "#1 from pycharm\n",
    "#2 done\n",
    "#3 test the program with invalid entries, dog, bark, mac, shark\n",
    "\n",
    "print(\"The Full Code\")\n",
    "#!/usr/bin/env python3\n",
    "\n",
    "# display a title\n",
    "print(\"The Miles Per Gallon program\")\n",
    "print()\n",
    "\n",
    "# get input from the user\n",
    "\n",
    "try:\n",
    "\tmiles_driven = float(input(\"Enter miles driven:\\t\\t\"))\n",
    "\tbreak\n",
    "except ValueError:\n",
    "    print(\"Oops! That was not a valie response. Try Again...\")\n",
    "\n",
    "# gallons_used = float(input(\"Enter gallons of gas used:\\t\"))\n",
    "#while True:\n",
    "try:\n",
    "\tgallons_used = float(input(\"Enter gallons of gas used:\\t\"))\n",
    "\tbreak\n",
    "except ValueError:\n",
    "    print(\"Oops! That was not a valie response. Try Again...\")\n",
    "\n",
    "\n",
    "# calculate and round miles per gallon\n",
    "mpg = miles_driven / gallons_used\n",
    "mpg = round(mpg, 2)\n",
    "\n",
    "# display the result\n",
    "print()\n",
    "print(\"Miles Per Gallon:\\t\\t\" + str(mpg))\n",
    "print()\n",
    "print(\"Alrighty then, bub bye\")"
   ]
  },
  {
   "cell_type": "code",
   "execution_count": null,
   "metadata": {},
   "outputs": [],
   "source": []
  }
 ],
 "metadata": {
  "kernelspec": {
   "display_name": "Python 3",
   "language": "python",
   "name": "python3"
  },
  "language_info": {
   "codemirror_mode": {
    "name": "ipython",
    "version": 2
   },
   "file_extension": ".py",
   "mimetype": "text/x-python",
   "name": "python",
   "nbconvert_exporter": "python",
   "pygments_lexer": "ipython2",
   "version": "2.7.6"
  }
 },
 "nbformat": 4,
 "nbformat_minor": 1
}