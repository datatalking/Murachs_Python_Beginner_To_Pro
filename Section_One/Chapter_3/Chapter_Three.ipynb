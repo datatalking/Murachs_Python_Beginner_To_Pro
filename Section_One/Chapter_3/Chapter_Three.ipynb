{
 "cells": [
  {
   "cell_type": "code",
   "execution_count": null,
   "metadata": {
    "collapsed": true
   },
   "outputs": [],
   "source": [
    "age == 5\n",
    "first_name == \"John\"\n",
    "\n",
    "quantity != 0\n",
    "\n",
    "distance > 5.6\n",
    "fuel_req < fuel_cap\n",
    "\n",
    "distance >= limit\n",
    "stock <= reorder_point\n",
    "\n",
    "rate / 100 >= 0.1\n",
    "\n",
    "active = True\n",
    "active = False"
   ]
  }
 ],
 "metadata": {
  "kernelspec": {
   "display_name": "Python 3",
   "language": "python",
   "name": "python3"
  },
  "language_info": {
   "codemirror_mode": {
    "name": "ipython",
    "version": 2
   },
   "file_extension": ".py",
   "mimetype": "text/x-python",
   "name": "python",
   "nbconvert_exporter": "python",
   "pygments_lexer": "ipython2",
   "version": "2.7.6"
  }
 },
 "nbformat": 4,
 "nbformat_minor": 0
}