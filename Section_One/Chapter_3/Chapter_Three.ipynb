{
 "cells": [
  {
   "cell_type": "code",
   "execution_count": null,
   "metadata": {
    "collapsed": true
   },
   "outputs": [],
   "source": [
    "age == 5\n",
    "first_name == \"John\"\n",
    "\n",
    "quantity != 0\n",
    "\n",
    "distance > 5.6\n",
    "fuel_req < fuel_cap\n",
    "\n",
    "distance >= limit\n",
    "stock <= reorder_point\n",
    "\n",
    "rate / 100 >= 0.1\n",
    "\n",
    "active = True\n",
    "active = False"
   ]
  },
  {
   "cell_type": "code",
   "execution_count": null,
   "outputs": [],
   "source": [
    "#The AND operator\n",
    "age >= 65 and city == \"Chicago\"\n",
    "\n",
    "# The OR operator\n",
    "city == \"Greenville\" or age >= 65\n",
    "\n",
    "# The NOT operator\n",
    "not age >= 65\n",
    "\n",
    "# Two AND operators\n",
    "age >= 65 and city == \"Greenville\" and state == \"SC\"\n",
    "\n",
    "# Two OR operators\n",
    "age >= 65 or age <= 18 or status == \"retired\"\n",
    "\n",
    "# AND and OR operators with parens to clarify sequence of operations\n",
    "(age >= 65 and status == \"retired\") or age < 18\n",
    "\n",
    "# AND and OR operators with parens to change sequence of operations\n",
    "age >= 65 and (status == \"retired\" or state == \"SC\")"
   ],
   "metadata": {
    "collapsed": false,
    "pycharm": {
     "name": "#%%\n"
    }
   }
  },
  {
   "cell_type": "code",
   "execution_count": null,
   "outputs": [],
   "source": [
    "# How to call a string method\n",
    "wariableName.methodName()\n",
    "\n",
    "# How the lower() method can be used to compare string values\n",
    "string1 = \"Mary\"\n",
    "string2 = \"mary\"\n",
    "string1 = string2\n",
    "string1.lower() == string2.lower()\n",
    "print(string1)\n",
    "print(string2)\n",
    "\n",
    "# How the lower() method can be used to compare string values\n",
    "# without the lower() method\n",
    "customer_type = str\n",
    "\n",
    "customer_type == \"r\" or customer_type == \"R\"\n",
    "\n",
    "# with the lower() method\n",
    "customer_type.lower() == \"r\""
   ],
   "metadata": {
    "collapsed": false,
    "pycharm": {
     "name": "#%%\n"
    }
   }
  },
  {
   "cell_type": "code",
   "execution_count": null,
   "outputs": [],
   "source": [
    "# The syntax of the if statement\n",
    "boolean_expression = True\n",
    "statements = str\n",
    "\n",
    "if boolean_expression:\n",
    "\tif statements...\n",
    "[elif boolean_expression:\n",
    "\tstatements...]...\n",
    "[else:\n",
    "    statemets...]\n",
    "\n",
    "# An if statement with only an if clause\n",
    "age = int\n",
    "\n",
    "if age >= 18:\n",
    "\tprint(\"You may vote.\")\n",
    "\n",
    "# An if statement with an if clause and an else clause\n",
    "if age >= 18:\n",
    "\tprint(\"You may vote.\")\n",
    "else:\n",
    "\tprint(\"You are too young to vote.\")\n",
    "\n",
    "# An if statement with two elif clases and an else clause\n",
    "invoice_total = input(\"How much did they buy\")\n",
    "discount_percentage = float\n",
    "\n",
    "if invoice_total >= 500:\n",
    "\tdiscount_percent = .2\n",
    "elif invoice_total >= 250:\n",
    "\tdiscount_percent = .1\n",
    "elif invoice_total > 0:\n",
    "\tdiscount_percent = 0\n",
    "else:\n",
    "\tprint(\"Invoice total must be greater than zero.\")"
   ],
   "metadata": {
    "collapsed": false,
    "pycharm": {
     "name": "#%%\n"
    }
   }
  },
  {
   "cell_type": "code",
   "execution_count": null,
   "outputs": [],
   "source": [
    "# An if statement used for grading\n",
    "score = int(input(\"Enter test score: \"))\n",
    "if score >= 90:\n",
    "\tgrade = \"A\"\n",
    "if score >= 80:\n",
    "\tgrade = \"B\"\n",
    "if score >= 70:\n",
    "\tgrade = \"C\"\n",
    "if score >= 60:\n",
    "\tgrade = \"D\"\n",
    "else:\n",
    "\tgrade = \"F\"\n",
    "\n",
    "# Another way the if statement count be coded\n",
    "score = int(input(\"Enter test score: \"))\n",
    "if score >= 90 and score <= 100:\n",
    "\tgrade = \"A\"\n",
    "if score >= 80 and score < 90:\n",
    "\tgrade = \"B\"\n",
    "if score >= 70 and score < 80:\n",
    "\tgrade = \"C\"\n",
    "if score >= 60 and score < 70:\n",
    "\tgrade = \"D\"\n",
    "elif score < 60:\n",
    "\tgrade = \"F\"\n",
    "\n",
    "\n",
    "# An if statement that validates the range of a score\n",
    "score = int(input(\"Enter test score: \"))\n",
    "if score >= 0 and score <= 100:\n",
    "\ttotal_score += score\n",
    "else:\n",
    "\tprint(\"Test score must be from 0 - 100.\")\n",
    "\n",
    "# An if statement that validates the customer type\n",
    "is_valid = True\n",
    "customer_type = input(\"Enter the customer_type (r/w): \")\n",
    "if customer_type == \"r\" or customer_type == \"w\"\n",
    "\tpass        # sthis statment does nothing\n",
    "else:\n",
    "\tprint(\"Customer type must be 'r' or 'w'.\")\n",
    "\tis_valid = False"
   ],
   "metadata": {
    "collapsed": false,
    "pycharm": {
     "name": "#%%\n"
    }
   }
  },
  {
   "cell_type": "code",
   "execution_count": null,
   "outputs": [],
   "source": [
    "# Nested if statements for applying customer discounts\n",
    "if customer_type.lower() == \"r\":\n",
    "\tif invoice_total < 100:\n",
    "\t\tdiscount_percent = 0\n",
    "\telif invoice_total >= 100 and invoice_total <= 250\n",
    "\t\tdiscount_percent = .1\n",
    "    elif invoice_total >= 250:\n",
    "\t    discount_percent = .2\n",
    "elif customer_type.lower() == \"w\":\n",
    "\tif invoice_total < 500:\n",
    "\t\tdiscount_percent = .4\n",
    "    elif invoice_total >= 500:\n",
    "\t    discount_percent = .5\n",
    "\n",
    "else:\n",
    "\tdiscount_percent = 0\n",
    "\n",
    "# A table that summarizes the discount rules\n",
    "\n",
    "# An if statement that gets the same results\n",
    "    # The discounts for Retail customers\n",
    "if customer_type.lower() == \"r\" and invoice_total < 100:\n",
    "\tdiscount_percent = 0\n",
    "elif customer_type.lower() == \"r\" and (\n",
    "\t\tinvoice_total >= 100 and invoice_total <= 250):\n",
    "    discount_percent = .1\n",
    "elif customer_type.lower() == \"r\" and invoice_total >= 250:\n",
    "\tdiscount_percent = .2\n",
    "# the discounts for Wholesale customers\n",
    "elif customer_type.lower() == \"w\" and invoice_total < 500:\n",
    "\tdiscount_percent = .4\n",
    "elif customer_type.lower() == \"w\" and invoice_total >= 500:\n",
    "\tdiscount_percent = .5\n",
    "# all other customers\n",
    "else:\n",
    "\tdiscount_percent = 0"
   ],
   "metadata": {
    "collapsed": false,
    "pycharm": {
     "name": "#%%\n"
    }
   }
  },
  {
   "cell_type": "code",
   "execution_count": null,
   "outputs": [],
   "source": [
    "# Psuedocode for planning customer discounts\n",
    "\"\"\"Get customer type\n",
    "IF type = R\n",
    "    IF invoice total < 250\n",
    "        discount = 0\n",
    "    ELSE IF invoice total >= 250\n",
    "        discount = 20%\n",
    "ELSE IF type = W\n",
    "    discount = 40%\n",
    "ELSE\n",
    "    print invalid type message\n",
    "\"\"\"\n",
    "\n",
    "# Psuedocode for planning the processing of test score entries\n",
    "\"\"\"Get test score\n",
    "IF score is from 0 to 100\n",
    "    add score to total score\n",
    "    add 1 to the number of score\n",
    "ELSE IF score = 999\n",
    "    print end of program message\n",
    "ELSE\n",
    "    print error message\"\"\"\n",
    "\n",
    "# Python code based on the psudocode\n",
    "total_score = 0\n",
    "score_counter = 0\n",
    "score = int(input(\"Enter test score: \"))\n",
    "if score >= 0 and score <= 100:\n",
    "\ttotal_score += score\n",
    "\tscore_counter += 1\n",
    "elif score == 999:\n",
    "\tprint(\"Ending program... \")\n",
    "else:\n",
    "\tprint(\"Test score must be from 0 to 100. Score discarded\")"
   ],
   "metadata": {
    "collapsed": false,
    "pycharm": {
     "name": "#%%\n"
    }
   }
  },
  {
   "cell_type": "code",
   "execution_count": null,
   "outputs": [],
   "source": [
    "# The code\n",
    "# display a welcome message\n",
    "print(\"The Miles Per Gallon program\")\n",
    "print()\n",
    "\n",
    "# get input from the user\n",
    "miles_driven = float(input(\"Enter miles driven:          \"))\n",
    "gallons_used = float(input(\"Enter gallons of gas used:   \"))\n",
    "\n",
    "if miles_driven <= 0:\n",
    "\tprint(\"Miles driven must be greater than zero. Please try again.\")\n",
    "elif gallons_used <= 0:\n",
    "\tprint(\"Gallons used must be greater than zero. Please try again.\")\n",
    "else:\n",
    "\t# calculate and display miles per gallon\n",
    "    mpg = round((miles_driven / gallons_used), 2)\n",
    "\tprint(\"Miles Per Gallon:           \", mpg)\n",
    "\n",
    "print()\n",
    "print(\"Bye\")\n",
    "\n",
    "# Another way the if statement could be coded\n",
    "if miles_driven > 0 and gallons_used > 0:\n",
    "\tmpg = round((miles_driven / gallons_used), 2)\n",
    "\tprint(\"Miles Per Gallon:        \", mpg)\n",
    "else:\n",
    "\tprint(\"Both entries must be greater than zero. Please try again.\")"
   ],
   "metadata": {
    "collapsed": false,
    "pycharm": {
     "name": "#%%\n"
    }
   }
  },
  {
   "cell_type": "code",
   "execution_count": null,
   "outputs": [],
   "source": [
    "# The code\n",
    "#!/usr/bin/env python3\n",
    "\n",
    "# display a welcome message\n",
    "print(\"The Invoice program\")\n",
    "print()\n",
    "\n",
    "# get user entries\n",
    "customer_type = input(\"Enter customer type (r/w):\\t\")\n",
    "invoice_total = float(input(\"Enter invoice total:\\t\\t\"))\n",
    "print()\n",
    "\n",
    "# determine discount for Retail customers\n",
    "if customer_type.lower() == \"r\":\n",
    "\tif 0 < invoice_total < 100:\n",
    "\t\tdiscount_percentage = 0\n",
    "    elif invoice_total >= 100 and invoice_total < 250:\n",
    "\t    discount_percentage = .1\n",
    "\telif invoice_total >= 250 and invoice_total < 500:\n",
    "\t    discount_percentage = .2\n",
    "    elif invoice_total >= 500:\n",
    "\t    discount_percentage = .25\n",
    "# determine discount for Wholesale customers\n",
    "elif customer_type.lower() == \"w\":\n",
    "\tif invoice_total > 0 and invoice_total < 500:\n",
    "\t\tdiscount_percentage = .4\n",
    "    elif invoice_total >= 500:\n",
    "\t    discount_percentage = .5\n",
    "# set discount to zero if neither Retail or Wholesale\n",
    "else:\n",
    "\tdiscount_percentage = 0\n",
    "\n"
   ],
   "metadata": {
    "collapsed": false,
    "pycharm": {
     "name": "#%%\n"
    }
   }
  }
 ],
 "metadata": {
  "kernelspec": {
   "display_name": "Python 3",
   "language": "python",
   "name": "python3"
  },
  "language_info": {
   "codemirror_mode": {
    "name": "ipython",
    "version": 2
   },
   "file_extension": ".py",
   "mimetype": "text/x-python",
   "name": "python",
   "nbconvert_exporter": "python",
   "pygments_lexer": "ipython2",
   "version": "2.7.6"
  }
 },
 "nbformat": 4,
 "nbformat_minor": 0
}