{
 "cells": [
  {
   "cell_type": "code",
   "execution_count": null,
   "metadata": {
    "collapsed": true
   },
   "outputs": [],
   "source": [
    "age == 5\n",
    "first_name == \"John\"\n",
    "\n",
    "quantity != 0\n",
    "\n",
    "distance > 5.6\n",
    "fuel_req < fuel_cap\n",
    "\n",
    "distance >= limit\n",
    "stock <= reorder_point\n",
    "\n",
    "rate / 100 >= 0.1\n",
    "\n",
    "active = True\n",
    "active = False"
   ]
  },
  {
   "cell_type": "code",
   "execution_count": null,
   "outputs": [],
   "source": [
    "#The AND operator\n",
    "age >= 65 and city == \"Chicago\"\n",
    "\n",
    "# The OR operator\n",
    "city == \"Greenville\" or age >= 65\n",
    "\n",
    "# The NOT operator\n",
    "not age >= 65\n",
    "\n",
    "# Two AND operators\n",
    "age >= 65 and city == \"Greenville\" and state == \"SC\"\n",
    "\n",
    "# Two OR operators\n",
    "age >= 65 or age <= 18 or status == \"retired\"\n",
    "\n",
    "# AND and OR operators with parens to clarify sequence of operations\n",
    "(age >= 65 and status == \"retired\") or age < 18\n",
    "\n",
    "# AND and OR operators with parens to change sequence of operations\n",
    "age >= 65 and (status == \"retired\" or state == \"SC\")"
   ],
   "metadata": {
    "collapsed": false,
    "pycharm": {
     "name": "#%%\n"
    }
   }
  },
  {
   "cell_type": "code",
   "execution_count": null,
   "outputs": [],
   "source": [
    "# How to call a string method\n",
    "wariableName.methodName()\n",
    "\n",
    "# How the lower() method can be used to compare string values\n",
    "string1 = \"Mary\"\n",
    "string2 = \"mary\"\n",
    "string1 = string2\n",
    "string1.lower() == string2.lower()\n",
    "print(string1)\n",
    "print(string2)\n",
    "\n",
    "# How the lower() method can be used to compare string values\n",
    "# without the lower() method\n",
    "customer_type == \"r\" or customer_type == \"R\"\n",
    "\n",
    "# with the lower() method\n",
    "customer_type.lower() == \"r\""
   ],
   "metadata": {
    "collapsed": false,
    "pycharm": {
     "name": "#%%\n"
    }
   }
  }
 ],
 "metadata": {
  "kernelspec": {
   "display_name": "Python 3",
   "language": "python",
   "name": "python3"
  },
  "language_info": {
   "codemirror_mode": {
    "name": "ipython",
    "version": 2
   },
   "file_extension": ".py",
   "mimetype": "text/x-python",
   "name": "python",
   "nbconvert_exporter": "python",
   "pygments_lexer": "ipython2",
   "version": "2.7.6"
  }
 },
 "nbformat": 4,
 "nbformat_minor": 0
}