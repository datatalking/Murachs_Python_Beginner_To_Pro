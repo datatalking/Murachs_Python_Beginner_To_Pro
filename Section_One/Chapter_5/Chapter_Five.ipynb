{
 "cells": [
  {
   "cell_type": "code",
   "execution_count": null,
   "outputs": [],
   "source": [
    "# SOURCE Murachs Python to Pro\n",
    "# Chapter Five\n",
    "# How to test and debug a program\n",
    "\n",
    "# The syntax for defining a function\n",
    "testing_goal = \"Find all errors before the program is put into production\"\n",
    "\n",
    "debugging_goal = \"Fix all errors before the program is put into production\"\n",
    "\n",
    "types_of_errors = [\"Syntax Errors\",\"Runtime Errors\",\"Logic Error\"]"
   ],
   "metadata": {
    "collapsed": false,
    "pycharm": {
     "name": "#%%\n"
    }
   }
  },
  {
   "cell_type": "code",
   "execution_count": 1,
   "outputs": [
    {
     "ename": "SyntaxError",
     "evalue": "invalid syntax (2003066170.py, line 10)",
     "output_type": "error",
     "traceback": [
      "\u001B[0;36m  File \u001B[0;32m\"/var/folders/m3/jsfh6v792_bg33tq9dyqyv200000gn/T/ipykernel_70343/2003066170.py\"\u001B[0;36m, line \u001B[0;32m10\u001B[0m\n\u001B[0;31m    for i in range(1, months)\u001B[0m\n\u001B[0m                             ^\u001B[0m\n\u001B[0;31mSyntaxError\u001B[0m\u001B[0;31m:\u001B[0m invalid syntax\n"
     ]
    }
   ],
   "source": [
    "# A python function contains errors\n",
    "\n",
    "def calculate_future_value(monthly_investment, yearly_interest, years):\n",
    "    # convert yearly values to monthly values\n",
    "    monthly_interest_rate = yearly_interest / 12 / 100\n",
    "    months = years * 12\n",
    "\n",
    "    # calculate future values\n",
    "    future_value = 0.0\n",
    "    for i in range(1, months)\n",
    "        future_value += monthly_investment_amount\n",
    "        monthly_interest = future_value * monthly_interest_rate\n",
    "        future_value += monthly_interest\n",
    "\n",
    "    return future_value\n"
   ],
   "metadata": {
    "collapsed": false,
    "pycharm": {
     "name": "#%%\n"
    }
   }
  },
  {
   "cell_type": "code",
   "execution_count": 7,
   "outputs": [
    {
     "name": "stdout",
     "output_type": "stream",
     "text": [
      "Entry must be greater than 0 and less than or equal to 15 Please try again.\n",
      "Entry must be greater than 0 and less than or equal to 15 Please try again.\n",
      "Entry must be greater than 0 and less than or equal to 15 Please try again.\n",
      "\n",
      "Future value:\t\t\t$3816.74\n",
      "\n",
      "\n",
      "Bye!\n"
     ]
    }
   ],
   "source": [
    "# TODO fix this to pull future_value function\n",
    "# SOURCE https://stackoverflow.com/questions/26463200/calling-if-name-main-in-one-module-from-a-function-in-another-modu\n",
    "from Murach_Python_Publisher_Data.book_apps.ch05.future_value import main as future_value_main\n",
    "\n",
    "\n",
    "def main():\n",
    "    future_value_main()\n",
    "\n",
    "\n",
    "if __name__ == \"__main__\":\n",
    "    future_value_main()"
   ],
   "metadata": {
    "collapsed": false,
    "pycharm": {
     "name": "#%%\n"
    }
   }
  }
 ],
 "metadata": {
  "kernelspec": {
   "display_name": "Python 3",
   "language": "python",
   "name": "python3"
  },
  "language_info": {
   "codemirror_mode": {
    "name": "ipython",
    "version": 2
   },
   "file_extension": ".py",
   "mimetype": "text/x-python",
   "name": "python",
   "nbconvert_exporter": "python",
   "pygments_lexer": "ipython2",
   "version": "2.7.6"
  }
 },
 "nbformat": 4,
 "nbformat_minor": 0
}