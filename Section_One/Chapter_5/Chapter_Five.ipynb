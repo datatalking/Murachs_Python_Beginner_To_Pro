{
 "cells": [
  {
   "cell_type": "code",
   "execution_count": null,
   "outputs": [],
   "source": [
    "# SOURCE Murachs Python to Pro\n",
    "# Chapter Five\n",
    "# How to test and debug a program\n",
    "\n",
    "# The syntax for defining a function\n",
    "testing_goal = \"Find all errors before the program is put into production\"\n",
    "\n",
    "debugging_goal = \"Fix all errors before the program is put into production\"\n",
    "\n",
    "types_of_errors = [\"Syntax Errors\",\"Runtime Errors\",\"Logic Error\"]"
   ],
   "metadata": {
    "collapsed": false,
    "pycharm": {
     "name": "#%%\n"
    }
   }
  },
  {
   "cell_type": "code",
   "execution_count": null,
   "outputs": [],
   "source": [
    "# A python function contains errors\n",
    "\n",
    "def calculate_future_value(monthly_investment, yearly_interest, years):\n",
    "    # convert yearly values to monthly values\n",
    "    monthly_interest_rate = yearly_interest / 12 / 100\n",
    "    months = years * 12\n",
    "\n",
    "    # calculate future values\n",
    "    future_value = 0.0\n",
    "    for i in range(1, months)\n",
    "        future_value += monthly_investment_amount\n",
    "        monthly_interest = future_value * monthly_interest_rate\n",
    "        future_value += monthly_interest\n",
    "\n",
    "    return future_value"
   ],
   "metadata": {
    "collapsed": false,
    "pycharm": {
     "name": "#%%\n"
    }
   }
  }
 ],
 "metadata": {
  "kernelspec": {
   "display_name": "Python 3",
   "language": "python",
   "name": "python3"
  },
  "language_info": {
   "codemirror_mode": {
    "name": "ipython",
    "version": 2
   },
   "file_extension": ".py",
   "mimetype": "text/x-python",
   "name": "python",
   "nbconvert_exporter": "python",
   "pygments_lexer": "ipython2",
   "version": "2.7.6"
  }
 },
 "nbformat": 4,
 "nbformat_minor": 0
}