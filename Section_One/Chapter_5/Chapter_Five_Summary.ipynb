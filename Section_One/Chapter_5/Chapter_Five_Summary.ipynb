{
 "cells": [
  {
   "cell_type": "code",
   "execution_count": null,
   "outputs": [],
   "source": [
    "\n",
    "## TERMS\n",
    "# TODO create an random cron job quizzing user on one of these terms\n",
    "# TODO save results to sqlite dbase and\n",
    "chapter_five_terms = {1: 'test',\n",
    "                    2: 'debug',\n",
    "                    3: 'bug',\n",
    "                    4: 'syntax error',\n",
    "                    5: 'compile-time error',\n",
    "                    6: 'runtime error',\n",
    "                    7: 'exception',\n",
    "                      8: 'logic error',\n",
    "                      9: 'test plan',\n",
    "                      10: 'trace execution',\n",
    "                      11: 'top-down coding and testing',\n",
    "                      12: 'top-down testing',\n",
    "                      13: 'debugger',\n",
    "                      14: 'breakpoint',\n",
    "                      15: 'step through code',\n",
    "                      16: 'stack'\n",
    "                      }"
   ],
   "metadata": {
    "collapsed": false,
    "pycharm": {
     "name": "#%%\n"
    }
   }
  },
  {
   "cell_type": "code",
   "execution_count": null,
   "outputs": [],
   "source": [
    "# Summary\n",
    "# TODO create a scanner to look for chapter_five_summary to quiz me\n",
    "\n",
    "chapter_five_summary = {\n",
    "        * \"To 'test' a program, you run it to make sure that it works properly\"\n",
    "          \"no matter what combination of valid or invalie data you enter\",\n",
    "        * \"When you 'debug' a program, you find and fix all of the errors ('bugs')\"\n",
    "          \"that you find when you test the program\",\n",
    "        * \"A 'Syntax Error' violates the 'pythonic' grammatical rules for how\"\n",
    "          \"Python statements must be written. Since they are caught when Python\"\n",
    "          \"attemps to compile the code they are a type of 'compile-time error'\",\n",
    "        * \"A 'function'\",\n",
    "\n",
    "}"
   ],
   "metadata": {
    "collapsed": false,
    "pycharm": {
     "name": "#%%\n"
    }
   }
  }
 ],
 "metadata": {
  "kernelspec": {
   "display_name": "Python 3",
   "language": "python",
   "name": "python3"
  },
  "language_info": {
   "codemirror_mode": {
    "name": "ipython",
    "version": 2
   },
   "file_extension": ".py",
   "mimetype": "text/x-python",
   "name": "python",
   "nbconvert_exporter": "python",
   "pygments_lexer": "ipython2",
   "version": "2.7.6"
  }
 },
 "nbformat": 4,
 "nbformat_minor": 0
}